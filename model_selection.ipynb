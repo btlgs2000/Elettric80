{
  "nbformat": 4,
  "nbformat_minor": 0,
  "metadata": {
    "colab": {
      "name": "model_selection.ipynb",
      "provenance": [],
      "collapsed_sections": [],
      "authorship_tag": "ABX9TyM+Ck0qOAlGPwJQ3SHm3uGx",
      "include_colab_link": true
    },
    "kernelspec": {
      "name": "python3",
      "display_name": "Python 3"
    },
    "language_info": {
      "name": "python"
    }
  },
  "cells": [
    {
      "cell_type": "markdown",
      "metadata": {
        "id": "view-in-github",
        "colab_type": "text"
      },
      "source": [
        "<a href=\"https://colab.research.google.com/github/btlgs2000/Elettric80/blob/main/model_selection.ipynb\" target=\"_parent\"><img src=\"https://colab.research.google.com/assets/colab-badge.svg\" alt=\"Open In Colab\"/></a>"
      ]
    },
    {
      "cell_type": "code",
      "metadata": {
        "id": "xpP5mh2obVUA"
      },
      "source": [
        "# pip install optuna"
      ],
      "execution_count": null,
      "outputs": []
    },
    {
      "cell_type": "code",
      "metadata": {
        "id": "Gb3_AoWhROsl"
      },
      "source": [
        " # fashion mnist\n",
        "\n",
        "# rete migliore come accuracy\n",
        "# dropout rate (0, 0.5)\n",
        "# numero di strati nascosti (1, 5)\n",
        "# numero di unità per ogni strato nascosto (10, 200)\n",
        "# relu e sigmoide\n",
        "# learning rate 10-3 e 10-2 #Adam\n",
        "\n",
        "from tensorflow.keras import Model, Sequential\n",
        "from tensorflow.keras.datasets import fashion_mnist\n",
        "from tensorflow.keras.optimizers import Adam\n",
        "from tensorflow.keras.callbacks import EarlyStopping\n",
        "from tensorflow.keras.layers import Dense, Dropout, Flatten\n",
        "\n",
        "import numpy as np\n",
        "\n",
        "import optuna"
      ],
      "execution_count": null,
      "outputs": []
    },
    {
      "cell_type": "code",
      "metadata": {
        "id": "FpRBkA1taCt-"
      },
      "source": [
        "(x_train, y_train), (x_test, y_test) = fashion_mnist.load_data()"
      ],
      "execution_count": null,
      "outputs": []
    },
    {
      "cell_type": "code",
      "metadata": {
        "id": "fCegE821aJf2"
      },
      "source": [
        "x_train = (x_train / 255).astype(np.float32)\n",
        "x_test = (x_test / 255).astype(np.float32)"
      ],
      "execution_count": null,
      "outputs": []
    },
    {
      "cell_type": "code",
      "metadata": {
        "id": "uK_zog_fSCza"
      },
      "source": [
        "def get_model(droput_rate:float, num_hidden:int, num_units:int, activation:str) -> Model:\n",
        "    ''' Restituisce un modello '''\n",
        "    model = Sequential([Flatten()])\n",
        "\n",
        "    # strati nascosti\n",
        "    for _ in range(num_hidden):\n",
        "        model.add(Dense(num_units, activation))\n",
        "\n",
        "    # ultimo strato\n",
        "    model.add(Dense(10, 'softmax'))\n",
        "\n",
        "    return model"
      ],
      "execution_count": null,
      "outputs": []
    },
    {
      "cell_type": "code",
      "metadata": {
        "id": "iy1JamESUZFD"
      },
      "source": [
        "class Objective:\n",
        "    def __init__(self, x_train, y_train):\n",
        "        self.x_train = x_train\n",
        "        self.y_train = y_train\n",
        "\n",
        "    def __call__(self, trial):\n",
        "        # scelta iperparametri\n",
        "        # trial.suggest....\n",
        "        num_hidden = trial.suggest_int('num_hidden', 1, 5)\n",
        "        num_units = trial.suggest_int('num_units', 10, 200)\n",
        "        dropout_rate = trial.suggest_uniform('dropout_rate', 0., 0.5)\n",
        "        learning_rate = trial.suggest_loguniform('learning_rate', 1e-3, 1e-2)\n",
        "        activation = trial.suggest_categorical('activation', ['relu', 'sigmoid'])\n",
        "        \n",
        "        # get_mode\n",
        "        model = get_model(dropout_rate, num_hidden, num_units, activation)\n",
        "        model.compile(optimizer=Adam(learning_rate), loss='sparse_categorical_crossentropy', metrics='accuracy')\n",
        "        \n",
        "        # addestramento # 10 epoche con early stopping su accuratezza sul validation, patience=2\n",
        "        model.fit(x=self.x_train, y=self.y_train, epochs=10, callbacks=[EarlyStopping(monitor='val_accuracy', patience=2)], validation_split=0.2)\n",
        "\n",
        "        return max(model.history.history['val_accuracy'])\n",
        "        # ritorna l'accuracy massima"
      ],
      "execution_count": null,
      "outputs": []
    },
    {
      "cell_type": "code",
      "metadata": {
        "colab": {
          "base_uri": "https://localhost:8080/"
        },
        "id": "8Ur-BrOOVJ-D",
        "outputId": "46cf8748-7947-476c-f390-c7bb8e115444"
      },
      "source": [
        "study = optuna.create_study(storage='sqlite:///model_selection.db', study_name='model_selection', direction='maximize')"
      ],
      "execution_count": null,
      "outputs": [
        {
          "output_type": "stream",
          "text": [
            "\u001b[32m[I 2021-05-21 10:25:28,278]\u001b[0m A new study created in RDB with name: model_selection\u001b[0m\n"
          ],
          "name": "stderr"
        }
      ]
    },
    {
      "cell_type": "code",
      "metadata": {
        "colab": {
          "base_uri": "https://localhost:8080/"
        },
        "id": "sJhJToNcVJNm",
        "outputId": "5a866b83-378f-4475-c480-5fdb353e9a30"
      },
      "source": [
        "study.optimize(Objective(x_train, y_train), n_trials=200)"
      ],
      "execution_count": null,
      "outputs": [
        {
          "output_type": "stream",
          "text": [
            "Epoch 1/10\n",
            "1500/1500 [==============================] - 7s 4ms/step - loss: 0.6770 - accuracy: 0.7533 - val_loss: 0.4481 - val_accuracy: 0.8378\n",
            "Epoch 2/10\n",
            "1500/1500 [==============================] - 6s 4ms/step - loss: 0.4004 - accuracy: 0.8539 - val_loss: 0.3818 - val_accuracy: 0.8592\n",
            "Epoch 3/10\n",
            "1500/1500 [==============================] - 6s 4ms/step - loss: 0.3538 - accuracy: 0.8700 - val_loss: 0.4426 - val_accuracy: 0.8482\n",
            "Epoch 4/10\n",
            "1500/1500 [==============================] - 6s 4ms/step - loss: 0.3305 - accuracy: 0.8774 - val_loss: 0.3807 - val_accuracy: 0.8683\n",
            "Epoch 5/10\n",
            "1500/1500 [==============================] - 6s 4ms/step - loss: 0.3110 - accuracy: 0.8860 - val_loss: 0.3398 - val_accuracy: 0.8775\n",
            "Epoch 6/10\n",
            "1500/1500 [==============================] - 6s 4ms/step - loss: 0.2978 - accuracy: 0.8871 - val_loss: 0.3469 - val_accuracy: 0.8736\n",
            "Epoch 7/10\n",
            "1500/1500 [==============================] - 6s 4ms/step - loss: 0.2864 - accuracy: 0.8939 - val_loss: 0.3474 - val_accuracy: 0.8817\n",
            "Epoch 8/10\n",
            "1500/1500 [==============================] - 6s 4ms/step - loss: 0.2661 - accuracy: 0.9010 - val_loss: 0.3788 - val_accuracy: 0.8697\n",
            "Epoch 9/10\n",
            "1500/1500 [==============================] - 6s 4ms/step - loss: 0.2553 - accuracy: 0.9036 - val_loss: 0.3360 - val_accuracy: 0.8847\n",
            "Epoch 10/10\n",
            "1500/1500 [==============================] - 6s 4ms/step - loss: 0.2507 - accuracy: 0.9062 - val_loss: 0.3291 - val_accuracy: 0.8888\n"
          ],
          "name": "stdout"
        },
        {
          "output_type": "stream",
          "text": [
            "\u001b[32m[I 2021-05-21 10:26:29,733]\u001b[0m Trial 0 finished with value: 0.8888333439826965 and parameters: {'num_hidden': 4, 'num_units': 145, 'dropout_rate': 0.2548654541841737, 'learning_rate': 0.0012313862720931623, 'activation': 'relu'}. Best is trial 0 with value: 0.8888333439826965.\u001b[0m\n"
          ],
          "name": "stderr"
        },
        {
          "output_type": "stream",
          "text": [
            "Epoch 1/10\n",
            "1500/1500 [==============================] - 6s 4ms/step - loss: 0.6457 - accuracy: 0.7647 - val_loss: 0.4613 - val_accuracy: 0.8339\n",
            "Epoch 2/10\n",
            "1500/1500 [==============================] - 5s 3ms/step - loss: 0.4098 - accuracy: 0.8519 - val_loss: 0.3956 - val_accuracy: 0.8601\n",
            "Epoch 3/10\n",
            "1500/1500 [==============================] - 5s 3ms/step - loss: 0.3711 - accuracy: 0.8662 - val_loss: 0.4031 - val_accuracy: 0.8547\n",
            "Epoch 4/10\n",
            "1500/1500 [==============================] - 5s 3ms/step - loss: 0.3468 - accuracy: 0.8723 - val_loss: 0.3804 - val_accuracy: 0.8653\n",
            "Epoch 5/10\n",
            "1500/1500 [==============================] - 5s 3ms/step - loss: 0.3310 - accuracy: 0.8763 - val_loss: 0.3715 - val_accuracy: 0.8687\n",
            "Epoch 6/10\n",
            "1500/1500 [==============================] - 5s 3ms/step - loss: 0.3296 - accuracy: 0.8778 - val_loss: 0.3724 - val_accuracy: 0.8686\n",
            "Epoch 7/10\n",
            "1500/1500 [==============================] - 5s 3ms/step - loss: 0.3230 - accuracy: 0.8799 - val_loss: 0.3529 - val_accuracy: 0.8792\n",
            "Epoch 8/10\n",
            "1500/1500 [==============================] - 5s 3ms/step - loss: 0.3120 - accuracy: 0.8828 - val_loss: 0.3540 - val_accuracy: 0.8812\n",
            "Epoch 9/10\n",
            "1500/1500 [==============================] - 5s 3ms/step - loss: 0.2995 - accuracy: 0.8883 - val_loss: 0.3912 - val_accuracy: 0.8737\n",
            "Epoch 10/10\n",
            "1500/1500 [==============================] - 5s 3ms/step - loss: 0.3071 - accuracy: 0.8865 - val_loss: 0.3516 - val_accuracy: 0.8829\n"
          ],
          "name": "stdout"
        },
        {
          "output_type": "stream",
          "text": [
            "\u001b[32m[I 2021-05-21 10:27:20,178]\u001b[0m Trial 1 finished with value: 0.8829166889190674 and parameters: {'num_hidden': 2, 'num_units': 151, 'dropout_rate': 0.05184001043287578, 'learning_rate': 0.004683496069592317, 'activation': 'relu'}. Best is trial 0 with value: 0.8888333439826965.\u001b[0m\n"
          ],
          "name": "stderr"
        },
        {
          "output_type": "stream",
          "text": [
            "Epoch 1/10\n",
            "1500/1500 [==============================] - 7s 4ms/step - loss: 0.7529 - accuracy: 0.7277 - val_loss: 0.4826 - val_accuracy: 0.8274\n",
            "Epoch 2/10\n",
            "1500/1500 [==============================] - 6s 4ms/step - loss: 0.4720 - accuracy: 0.8315 - val_loss: 0.5026 - val_accuracy: 0.8268\n",
            "Epoch 3/10\n",
            "1500/1500 [==============================] - 6s 4ms/step - loss: 0.4642 - accuracy: 0.8359 - val_loss: 0.4465 - val_accuracy: 0.8438\n",
            "Epoch 4/10\n",
            "1500/1500 [==============================] - 6s 4ms/step - loss: 0.4265 - accuracy: 0.8483 - val_loss: 0.4590 - val_accuracy: 0.8501\n",
            "Epoch 5/10\n",
            "1500/1500 [==============================] - 6s 4ms/step - loss: 0.4133 - accuracy: 0.8534 - val_loss: 0.4283 - val_accuracy: 0.8493\n",
            "Epoch 6/10\n",
            "1500/1500 [==============================] - 6s 4ms/step - loss: 0.3893 - accuracy: 0.8630 - val_loss: 0.4171 - val_accuracy: 0.8521\n",
            "Epoch 7/10\n",
            "1500/1500 [==============================] - 6s 4ms/step - loss: 0.3948 - accuracy: 0.8602 - val_loss: 0.4147 - val_accuracy: 0.8596\n",
            "Epoch 8/10\n",
            "1500/1500 [==============================] - 6s 4ms/step - loss: 0.4051 - accuracy: 0.8604 - val_loss: 0.3992 - val_accuracy: 0.8640\n",
            "Epoch 9/10\n",
            "1500/1500 [==============================] - 6s 4ms/step - loss: 0.3851 - accuracy: 0.8631 - val_loss: 0.4458 - val_accuracy: 0.8463\n",
            "Epoch 10/10\n",
            "1500/1500 [==============================] - 6s 4ms/step - loss: 0.3841 - accuracy: 0.8639 - val_loss: 0.3867 - val_accuracy: 0.8667\n"
          ],
          "name": "stdout"
        },
        {
          "output_type": "stream",
          "text": [
            "\u001b[32m[I 2021-05-21 10:28:21,819]\u001b[0m Trial 2 finished with value: 0.8666666746139526 and parameters: {'num_hidden': 3, 'num_units': 192, 'dropout_rate': 0.15232832224580817, 'learning_rate': 0.008792895156047921, 'activation': 'relu'}. Best is trial 0 with value: 0.8888333439826965.\u001b[0m\n"
          ],
          "name": "stderr"
        },
        {
          "output_type": "stream",
          "text": [
            "Epoch 1/10\n",
            "1500/1500 [==============================] - 5s 3ms/step - loss: 0.6437 - accuracy: 0.7662 - val_loss: 0.4439 - val_accuracy: 0.8415\n",
            "Epoch 2/10\n",
            "1500/1500 [==============================] - 4s 3ms/step - loss: 0.3918 - accuracy: 0.8530 - val_loss: 0.3847 - val_accuracy: 0.8618\n",
            "Epoch 3/10\n",
            "1500/1500 [==============================] - 5s 3ms/step - loss: 0.3497 - accuracy: 0.8719 - val_loss: 0.3869 - val_accuracy: 0.8668\n",
            "Epoch 4/10\n",
            "1500/1500 [==============================] - 5s 3ms/step - loss: 0.3308 - accuracy: 0.8777 - val_loss: 0.3656 - val_accuracy: 0.8657\n",
            "Epoch 5/10\n",
            "1500/1500 [==============================] - 4s 3ms/step - loss: 0.3130 - accuracy: 0.8822 - val_loss: 0.3814 - val_accuracy: 0.8618\n"
          ],
          "name": "stdout"
        },
        {
          "output_type": "stream",
          "text": [
            "\u001b[32m[I 2021-05-21 10:28:45,349]\u001b[0m Trial 3 finished with value: 0.8667500019073486 and parameters: {'num_hidden': 3, 'num_units': 109, 'dropout_rate': 0.05386055062946682, 'learning_rate': 0.002156786664598766, 'activation': 'relu'}. Best is trial 0 with value: 0.8888333439826965.\u001b[0m\n"
          ],
          "name": "stderr"
        },
        {
          "output_type": "stream",
          "text": [
            "Epoch 1/10\n",
            "1500/1500 [==============================] - 4s 2ms/step - loss: 0.9686 - accuracy: 0.6530 - val_loss: 0.4492 - val_accuracy: 0.8388\n",
            "Epoch 2/10\n",
            "1500/1500 [==============================] - 3s 2ms/step - loss: 0.4209 - accuracy: 0.8486 - val_loss: 0.4142 - val_accuracy: 0.8484\n",
            "Epoch 3/10\n",
            "1500/1500 [==============================] - 3s 2ms/step - loss: 0.3781 - accuracy: 0.8634 - val_loss: 0.3928 - val_accuracy: 0.8551\n",
            "Epoch 4/10\n",
            "1500/1500 [==============================] - 3s 2ms/step - loss: 0.3519 - accuracy: 0.8715 - val_loss: 0.3849 - val_accuracy: 0.8569\n",
            "Epoch 5/10\n",
            "1500/1500 [==============================] - 4s 2ms/step - loss: 0.3395 - accuracy: 0.8763 - val_loss: 0.3763 - val_accuracy: 0.8662\n",
            "Epoch 6/10\n",
            "1500/1500 [==============================] - 3s 2ms/step - loss: 0.3370 - accuracy: 0.8782 - val_loss: 0.4042 - val_accuracy: 0.8497\n",
            "Epoch 7/10\n",
            "1500/1500 [==============================] - 3s 2ms/step - loss: 0.3093 - accuracy: 0.8868 - val_loss: 0.3553 - val_accuracy: 0.8722\n",
            "Epoch 8/10\n",
            "1500/1500 [==============================] - 3s 2ms/step - loss: 0.2961 - accuracy: 0.8907 - val_loss: 0.3524 - val_accuracy: 0.8697\n",
            "Epoch 9/10\n",
            "1500/1500 [==============================] - 3s 2ms/step - loss: 0.2998 - accuracy: 0.8884 - val_loss: 0.4035 - val_accuracy: 0.8554\n"
          ],
          "name": "stdout"
        },
        {
          "output_type": "stream",
          "text": [
            "\u001b[32m[I 2021-05-21 10:29:16,977]\u001b[0m Trial 4 finished with value: 0.8721666932106018 and parameters: {'num_hidden': 3, 'num_units': 59, 'dropout_rate': 0.19335095283137566, 'learning_rate': 0.0032748209417077408, 'activation': 'sigmoid'}. Best is trial 0 with value: 0.8888333439826965.\u001b[0m\n"
          ],
          "name": "stderr"
        },
        {
          "output_type": "stream",
          "text": [
            "Epoch 1/10\n",
            "1500/1500 [==============================] - 7s 4ms/step - loss: 0.6338 - accuracy: 0.7706 - val_loss: 0.3828 - val_accuracy: 0.8635\n",
            "Epoch 2/10\n",
            "1500/1500 [==============================] - 6s 4ms/step - loss: 0.3813 - accuracy: 0.8606 - val_loss: 0.3705 - val_accuracy: 0.8657\n",
            "Epoch 3/10\n",
            "1500/1500 [==============================] - 6s 4ms/step - loss: 0.3386 - accuracy: 0.8754 - val_loss: 0.3624 - val_accuracy: 0.8737\n",
            "Epoch 4/10\n",
            "1500/1500 [==============================] - 6s 4ms/step - loss: 0.3171 - accuracy: 0.8824 - val_loss: 0.3611 - val_accuracy: 0.8727\n",
            "Epoch 5/10\n",
            "1500/1500 [==============================] - 6s 4ms/step - loss: 0.2999 - accuracy: 0.8879 - val_loss: 0.3246 - val_accuracy: 0.8831\n",
            "Epoch 6/10\n",
            "1500/1500 [==============================] - 6s 4ms/step - loss: 0.2900 - accuracy: 0.8919 - val_loss: 0.3290 - val_accuracy: 0.8807\n",
            "Epoch 7/10\n",
            "1500/1500 [==============================] - 6s 4ms/step - loss: 0.2731 - accuracy: 0.8972 - val_loss: 0.3273 - val_accuracy: 0.8836\n",
            "Epoch 8/10\n",
            "1500/1500 [==============================] - 6s 4ms/step - loss: 0.2609 - accuracy: 0.9028 - val_loss: 0.3267 - val_accuracy: 0.8863\n",
            "Epoch 9/10\n",
            "1500/1500 [==============================] - 6s 4ms/step - loss: 0.2516 - accuracy: 0.9055 - val_loss: 0.3211 - val_accuracy: 0.8890\n",
            "Epoch 10/10\n",
            "1500/1500 [==============================] - 6s 4ms/step - loss: 0.2415 - accuracy: 0.9074 - val_loss: 0.3472 - val_accuracy: 0.8862\n"
          ],
          "name": "stdout"
        },
        {
          "output_type": "stream",
          "text": [
            "\u001b[32m[I 2021-05-21 10:30:20,951]\u001b[0m Trial 5 finished with value: 0.8889999985694885 and parameters: {'num_hidden': 3, 'num_units': 191, 'dropout_rate': 0.09878738781730328, 'learning_rate': 0.0012653057661248003, 'activation': 'relu'}. Best is trial 5 with value: 0.8889999985694885.\u001b[0m\n"
          ],
          "name": "stderr"
        },
        {
          "output_type": "stream",
          "text": [
            "Epoch 1/10\n",
            "1500/1500 [==============================] - 7s 4ms/step - loss: 0.7507 - accuracy: 0.7237 - val_loss: 0.4939 - val_accuracy: 0.8232\n",
            "Epoch 2/10\n",
            "1500/1500 [==============================] - 6s 4ms/step - loss: 0.4733 - accuracy: 0.8314 - val_loss: 0.4561 - val_accuracy: 0.8432\n",
            "Epoch 3/10\n",
            "1500/1500 [==============================] - 6s 4ms/step - loss: 0.4421 - accuracy: 0.8450 - val_loss: 0.4246 - val_accuracy: 0.8507\n",
            "Epoch 4/10\n",
            "1500/1500 [==============================] - 6s 4ms/step - loss: 0.4228 - accuracy: 0.8508 - val_loss: 0.4505 - val_accuracy: 0.8544\n",
            "Epoch 5/10\n",
            "1500/1500 [==============================] - 6s 4ms/step - loss: 0.4121 - accuracy: 0.8543 - val_loss: 0.4529 - val_accuracy: 0.8438\n",
            "Epoch 6/10\n",
            "1500/1500 [==============================] - 6s 4ms/step - loss: 0.4061 - accuracy: 0.8561 - val_loss: 0.4164 - val_accuracy: 0.8577\n",
            "Epoch 7/10\n",
            "1500/1500 [==============================] - 6s 4ms/step - loss: 0.3745 - accuracy: 0.8668 - val_loss: 0.4427 - val_accuracy: 0.8417\n",
            "Epoch 8/10\n",
            "1500/1500 [==============================] - 6s 4ms/step - loss: 0.3736 - accuracy: 0.8670 - val_loss: 0.4099 - val_accuracy: 0.8618\n",
            "Epoch 9/10\n",
            "1500/1500 [==============================] - 6s 4ms/step - loss: 0.3788 - accuracy: 0.8650 - val_loss: 0.3960 - val_accuracy: 0.8669\n",
            "Epoch 10/10\n",
            "1500/1500 [==============================] - 6s 4ms/step - loss: 0.3633 - accuracy: 0.8712 - val_loss: 0.3696 - val_accuracy: 0.8723\n"
          ],
          "name": "stdout"
        },
        {
          "output_type": "stream",
          "text": [
            "\u001b[32m[I 2021-05-21 10:31:19,210]\u001b[0m Trial 6 finished with value: 0.8722500205039978 and parameters: {'num_hidden': 5, 'num_units': 124, 'dropout_rate': 0.2440097142011423, 'learning_rate': 0.005461227486852643, 'activation': 'relu'}. Best is trial 5 with value: 0.8889999985694885.\u001b[0m\n"
          ],
          "name": "stderr"
        },
        {
          "output_type": "stream",
          "text": [
            "Epoch 1/10\n",
            "1500/1500 [==============================] - 6s 3ms/step - loss: 0.6888 - accuracy: 0.7462 - val_loss: 0.4253 - val_accuracy: 0.8480\n",
            "Epoch 2/10\n",
            "1500/1500 [==============================] - 5s 3ms/step - loss: 0.4257 - accuracy: 0.8439 - val_loss: 0.4123 - val_accuracy: 0.8534\n",
            "Epoch 3/10\n",
            "1500/1500 [==============================] - 5s 3ms/step - loss: 0.3920 - accuracy: 0.8558 - val_loss: 0.4120 - val_accuracy: 0.8471\n",
            "Epoch 4/10\n",
            "1500/1500 [==============================] - 5s 3ms/step - loss: 0.3675 - accuracy: 0.8680 - val_loss: 0.3783 - val_accuracy: 0.8662\n",
            "Epoch 5/10\n",
            "1500/1500 [==============================] - 5s 3ms/step - loss: 0.3474 - accuracy: 0.8753 - val_loss: 0.3961 - val_accuracy: 0.8585\n",
            "Epoch 6/10\n",
            "1500/1500 [==============================] - 5s 3ms/step - loss: 0.3314 - accuracy: 0.8790 - val_loss: 0.3953 - val_accuracy: 0.8633\n"
          ],
          "name": "stdout"
        },
        {
          "output_type": "stream",
          "text": [
            "\u001b[32m[I 2021-05-21 10:31:49,283]\u001b[0m Trial 7 finished with value: 0.8661666512489319 and parameters: {'num_hidden': 4, 'num_units': 110, 'dropout_rate': 0.45806173536469136, 'learning_rate': 0.003284263049690774, 'activation': 'relu'}. Best is trial 5 with value: 0.8889999985694885.\u001b[0m\n"
          ],
          "name": "stderr"
        },
        {
          "output_type": "stream",
          "text": [
            "Epoch 1/10\n",
            "1500/1500 [==============================] - 5s 3ms/step - loss: 0.6360 - accuracy: 0.7756 - val_loss: 0.4359 - val_accuracy: 0.8382\n",
            "Epoch 2/10\n",
            "1500/1500 [==============================] - 4s 3ms/step - loss: 0.4089 - accuracy: 0.8551 - val_loss: 0.4921 - val_accuracy: 0.8338\n",
            "Epoch 3/10\n",
            "1500/1500 [==============================] - 4s 3ms/step - loss: 0.3722 - accuracy: 0.8649 - val_loss: 0.3955 - val_accuracy: 0.8593\n",
            "Epoch 4/10\n",
            "1500/1500 [==============================] - 4s 3ms/step - loss: 0.3484 - accuracy: 0.8729 - val_loss: 0.3892 - val_accuracy: 0.8624\n",
            "Epoch 5/10\n",
            "1500/1500 [==============================] - 4s 3ms/step - loss: 0.3376 - accuracy: 0.8755 - val_loss: 0.3920 - val_accuracy: 0.8654\n",
            "Epoch 6/10\n",
            "1500/1500 [==============================] - 4s 3ms/step - loss: 0.3212 - accuracy: 0.8812 - val_loss: 0.3823 - val_accuracy: 0.8683\n",
            "Epoch 7/10\n",
            "1500/1500 [==============================] - 4s 3ms/step - loss: 0.3142 - accuracy: 0.8843 - val_loss: 0.3834 - val_accuracy: 0.8692\n",
            "Epoch 8/10\n",
            "1500/1500 [==============================] - 4s 3ms/step - loss: 0.3090 - accuracy: 0.8871 - val_loss: 0.4200 - val_accuracy: 0.8606\n",
            "Epoch 9/10\n",
            "1500/1500 [==============================] - 4s 3ms/step - loss: 0.3025 - accuracy: 0.8873 - val_loss: 0.3797 - val_accuracy: 0.8742\n",
            "Epoch 10/10\n",
            "1500/1500 [==============================] - 4s 3ms/step - loss: 0.2979 - accuracy: 0.8901 - val_loss: 0.3851 - val_accuracy: 0.8714\n"
          ],
          "name": "stdout"
        },
        {
          "output_type": "stream",
          "text": [
            "\u001b[32m[I 2021-05-21 10:32:30,204]\u001b[0m Trial 8 finished with value: 0.8742499947547913 and parameters: {'num_hidden': 1, 'num_units': 150, 'dropout_rate': 0.23409698795544687, 'learning_rate': 0.00542380684799649, 'activation': 'relu'}. Best is trial 5 with value: 0.8889999985694885.\u001b[0m\n"
          ],
          "name": "stderr"
        },
        {
          "output_type": "stream",
          "text": [
            "Epoch 1/10\n",
            "1500/1500 [==============================] - 3s 2ms/step - loss: 0.8577 - accuracy: 0.6818 - val_loss: 0.5315 - val_accuracy: 0.8051\n",
            "Epoch 2/10\n",
            "1500/1500 [==============================] - 3s 2ms/step - loss: 0.5087 - accuracy: 0.8166 - val_loss: 0.4599 - val_accuracy: 0.8383\n",
            "Epoch 3/10\n",
            "1500/1500 [==============================] - 3s 2ms/step - loss: 0.4671 - accuracy: 0.8355 - val_loss: 0.5323 - val_accuracy: 0.8229\n",
            "Epoch 4/10\n",
            "1500/1500 [==============================] - 3s 2ms/step - loss: 0.4509 - accuracy: 0.8444 - val_loss: 0.4704 - val_accuracy: 0.8441\n",
            "Epoch 5/10\n",
            "1500/1500 [==============================] - 3s 2ms/step - loss: 0.4367 - accuracy: 0.8498 - val_loss: 0.4741 - val_accuracy: 0.8303\n",
            "Epoch 6/10\n",
            "1500/1500 [==============================] - 3s 2ms/step - loss: 0.4302 - accuracy: 0.8473 - val_loss: 0.4396 - val_accuracy: 0.8512\n",
            "Epoch 7/10\n",
            "1500/1500 [==============================] - 3s 2ms/step - loss: 0.4251 - accuracy: 0.8547 - val_loss: 0.4801 - val_accuracy: 0.8353\n",
            "Epoch 8/10\n",
            "1500/1500 [==============================] - 3s 2ms/step - loss: 0.4166 - accuracy: 0.8563 - val_loss: 0.4169 - val_accuracy: 0.8543\n",
            "Epoch 9/10\n",
            "1500/1500 [==============================] - 3s 2ms/step - loss: 0.4146 - accuracy: 0.8585 - val_loss: 0.4511 - val_accuracy: 0.8462\n",
            "Epoch 10/10\n",
            "1500/1500 [==============================] - 3s 2ms/step - loss: 0.4162 - accuracy: 0.8551 - val_loss: 0.4239 - val_accuracy: 0.8577\n"
          ],
          "name": "stdout"
        },
        {
          "output_type": "stream",
          "text": [
            "\u001b[32m[I 2021-05-21 10:32:58,456]\u001b[0m Trial 9 finished with value: 0.8576666712760925 and parameters: {'num_hidden': 4, 'num_units': 20, 'dropout_rate': 0.13107448635946184, 'learning_rate': 0.007428897244414038, 'activation': 'relu'}. Best is trial 5 with value: 0.8889999985694885.\u001b[0m\n"
          ],
          "name": "stderr"
        },
        {
          "output_type": "stream",
          "text": [
            "Epoch 1/10\n",
            "1500/1500 [==============================] - 5s 3ms/step - loss: 0.7515 - accuracy: 0.7490 - val_loss: 0.4213 - val_accuracy: 0.8493\n",
            "Epoch 2/10\n",
            "1500/1500 [==============================] - 4s 3ms/step - loss: 0.4108 - accuracy: 0.8495 - val_loss: 0.3822 - val_accuracy: 0.8619\n",
            "Epoch 3/10\n",
            "1500/1500 [==============================] - 4s 3ms/step - loss: 0.3612 - accuracy: 0.8676 - val_loss: 0.3851 - val_accuracy: 0.8598\n",
            "Epoch 4/10\n",
            "1500/1500 [==============================] - 5s 3ms/step - loss: 0.3424 - accuracy: 0.8751 - val_loss: 0.3500 - val_accuracy: 0.8708\n",
            "Epoch 5/10\n",
            "1500/1500 [==============================] - 4s 3ms/step - loss: 0.3194 - accuracy: 0.8815 - val_loss: 0.3367 - val_accuracy: 0.8780\n",
            "Epoch 6/10\n",
            "1500/1500 [==============================] - 4s 3ms/step - loss: 0.2975 - accuracy: 0.8900 - val_loss: 0.3353 - val_accuracy: 0.8782\n",
            "Epoch 7/10\n",
            "1500/1500 [==============================] - 4s 3ms/step - loss: 0.2761 - accuracy: 0.8988 - val_loss: 0.3300 - val_accuracy: 0.8770\n",
            "Epoch 8/10\n",
            "1500/1500 [==============================] - 4s 3ms/step - loss: 0.2678 - accuracy: 0.9019 - val_loss: 0.3192 - val_accuracy: 0.8825\n",
            "Epoch 9/10\n",
            "1500/1500 [==============================] - 4s 3ms/step - loss: 0.2591 - accuracy: 0.9043 - val_loss: 0.3080 - val_accuracy: 0.8873\n",
            "Epoch 10/10\n",
            "1500/1500 [==============================] - 4s 3ms/step - loss: 0.2468 - accuracy: 0.9076 - val_loss: 0.3104 - val_accuracy: 0.8868\n"
          ],
          "name": "stdout"
        },
        {
          "output_type": "stream",
          "text": [
            "\u001b[32m[I 2021-05-21 10:33:42,388]\u001b[0m Trial 10 finished with value: 0.8872500061988831 and parameters: {'num_hidden': 1, 'num_units': 192, 'dropout_rate': 0.3759605871330667, 'learning_rate': 0.0010436951101014825, 'activation': 'sigmoid'}. Best is trial 5 with value: 0.8889999985694885.\u001b[0m\n"
          ],
          "name": "stderr"
        },
        {
          "output_type": "stream",
          "text": [
            "Epoch 1/10\n",
            "1500/1500 [==============================] - 8s 5ms/step - loss: 0.6789 - accuracy: 0.7469 - val_loss: 0.4126 - val_accuracy: 0.8526\n",
            "Epoch 2/10\n",
            "1500/1500 [==============================] - 7s 5ms/step - loss: 0.4000 - accuracy: 0.8539 - val_loss: 0.3766 - val_accuracy: 0.8610\n",
            "Epoch 3/10\n",
            "1500/1500 [==============================] - 7s 5ms/step - loss: 0.3541 - accuracy: 0.8695 - val_loss: 0.3616 - val_accuracy: 0.8684\n",
            "Epoch 4/10\n",
            "1500/1500 [==============================] - 7s 5ms/step - loss: 0.3280 - accuracy: 0.8804 - val_loss: 0.3678 - val_accuracy: 0.8683\n",
            "Epoch 5/10\n",
            "1500/1500 [==============================] - 7s 5ms/step - loss: 0.3169 - accuracy: 0.8836 - val_loss: 0.3558 - val_accuracy: 0.8806\n",
            "Epoch 6/10\n",
            "1500/1500 [==============================] - 7s 5ms/step - loss: 0.2947 - accuracy: 0.8918 - val_loss: 0.3477 - val_accuracy: 0.8796\n",
            "Epoch 7/10\n",
            "1500/1500 [==============================] - 7s 5ms/step - loss: 0.2812 - accuracy: 0.8951 - val_loss: 0.3550 - val_accuracy: 0.8742\n"
          ],
          "name": "stdout"
        },
        {
          "output_type": "stream",
          "text": [
            "\u001b[32m[I 2021-05-21 10:34:33,420]\u001b[0m Trial 11 finished with value: 0.8805833458900452 and parameters: {'num_hidden': 5, 'num_units': 164, 'dropout_rate': 0.35743423573243926, 'learning_rate': 0.0010442880515673754, 'activation': 'relu'}. Best is trial 5 with value: 0.8889999985694885.\u001b[0m\n"
          ],
          "name": "stderr"
        },
        {
          "output_type": "stream",
          "text": [
            "Epoch 1/10\n",
            "1500/1500 [==============================] - 8s 5ms/step - loss: 0.6548 - accuracy: 0.7626 - val_loss: 0.4067 - val_accuracy: 0.8532\n",
            "Epoch 2/10\n",
            "1500/1500 [==============================] - 7s 5ms/step - loss: 0.4071 - accuracy: 0.8522 - val_loss: 0.3805 - val_accuracy: 0.8615\n",
            "Epoch 3/10\n",
            "1500/1500 [==============================] - 7s 5ms/step - loss: 0.3578 - accuracy: 0.8699 - val_loss: 0.3798 - val_accuracy: 0.8683\n",
            "Epoch 4/10\n",
            "1500/1500 [==============================] - 7s 5ms/step - loss: 0.3420 - accuracy: 0.8754 - val_loss: 0.3719 - val_accuracy: 0.8654\n",
            "Epoch 5/10\n",
            "1500/1500 [==============================] - 7s 5ms/step - loss: 0.3243 - accuracy: 0.8822 - val_loss: 0.3710 - val_accuracy: 0.8698\n",
            "Epoch 6/10\n",
            "1500/1500 [==============================] - 7s 5ms/step - loss: 0.3082 - accuracy: 0.8858 - val_loss: 0.3332 - val_accuracy: 0.8832\n",
            "Epoch 7/10\n",
            "1500/1500 [==============================] - 7s 5ms/step - loss: 0.2925 - accuracy: 0.8924 - val_loss: 0.3606 - val_accuracy: 0.8750\n",
            "Epoch 8/10\n",
            "1500/1500 [==============================] - 7s 5ms/step - loss: 0.2779 - accuracy: 0.8974 - val_loss: 0.3390 - val_accuracy: 0.8839\n",
            "Epoch 9/10\n",
            "1500/1500 [==============================] - 7s 5ms/step - loss: 0.2737 - accuracy: 0.8998 - val_loss: 0.3314 - val_accuracy: 0.8821\n",
            "Epoch 10/10\n",
            "1500/1500 [==============================] - 7s 5ms/step - loss: 0.2603 - accuracy: 0.9015 - val_loss: 0.3714 - val_accuracy: 0.8738\n"
          ],
          "name": "stdout"
        },
        {
          "output_type": "stream",
          "text": [
            "\u001b[32m[I 2021-05-21 10:35:46,931]\u001b[0m Trial 12 finished with value: 0.8839166760444641 and parameters: {'num_hidden': 4, 'num_units': 197, 'dropout_rate': 0.3240680061748251, 'learning_rate': 0.001682355800083214, 'activation': 'relu'}. Best is trial 5 with value: 0.8889999985694885.\u001b[0m\n"
          ],
          "name": "stderr"
        },
        {
          "output_type": "stream",
          "text": [
            "Epoch 1/10\n",
            "1500/1500 [==============================] - 5s 3ms/step - loss: 0.7989 - accuracy: 0.7281 - val_loss: 0.4361 - val_accuracy: 0.8409\n",
            "Epoch 2/10\n",
            "1500/1500 [==============================] - 5s 3ms/step - loss: 0.3921 - accuracy: 0.8553 - val_loss: 0.3684 - val_accuracy: 0.8668\n",
            "Epoch 3/10\n",
            "1500/1500 [==============================] - 5s 3ms/step - loss: 0.3542 - accuracy: 0.8707 - val_loss: 0.3458 - val_accuracy: 0.8736\n",
            "Epoch 4/10\n",
            "1500/1500 [==============================] - 5s 3ms/step - loss: 0.3208 - accuracy: 0.8830 - val_loss: 0.3409 - val_accuracy: 0.8747\n",
            "Epoch 5/10\n",
            "1500/1500 [==============================] - 5s 4ms/step - loss: 0.2968 - accuracy: 0.8902 - val_loss: 0.3473 - val_accuracy: 0.8717\n",
            "Epoch 6/10\n",
            "1500/1500 [==============================] - 5s 3ms/step - loss: 0.2844 - accuracy: 0.8945 - val_loss: 0.3204 - val_accuracy: 0.8824\n",
            "Epoch 7/10\n",
            "1500/1500 [==============================] - 5s 3ms/step - loss: 0.2765 - accuracy: 0.8963 - val_loss: 0.3261 - val_accuracy: 0.8788\n",
            "Epoch 8/10\n",
            "1500/1500 [==============================] - 5s 3ms/step - loss: 0.2587 - accuracy: 0.9033 - val_loss: 0.3315 - val_accuracy: 0.8793\n"
          ],
          "name": "stdout"
        },
        {
          "output_type": "stream",
          "text": [
            "\u001b[32m[I 2021-05-21 10:36:28,490]\u001b[0m Trial 13 finished with value: 0.8824166655540466 and parameters: {'num_hidden': 2, 'num_units': 171, 'dropout_rate': 0.005106235213585303, 'learning_rate': 0.001417370430457251, 'activation': 'sigmoid'}. Best is trial 5 with value: 0.8889999985694885.\u001b[0m\n"
          ],
          "name": "stderr"
        },
        {
          "output_type": "stream",
          "text": [
            "Epoch 1/10\n",
            "1500/1500 [==============================] - 5s 3ms/step - loss: 0.6992 - accuracy: 0.7487 - val_loss: 0.4599 - val_accuracy: 0.8321\n",
            "Epoch 2/10\n",
            "1500/1500 [==============================] - 4s 3ms/step - loss: 0.3992 - accuracy: 0.8529 - val_loss: 0.3654 - val_accuracy: 0.8710\n",
            "Epoch 3/10\n",
            "1500/1500 [==============================] - 4s 3ms/step - loss: 0.3551 - accuracy: 0.8701 - val_loss: 0.3628 - val_accuracy: 0.8707\n",
            "Epoch 4/10\n",
            "1500/1500 [==============================] - 4s 3ms/step - loss: 0.3316 - accuracy: 0.8766 - val_loss: 0.3458 - val_accuracy: 0.8766\n",
            "Epoch 5/10\n",
            "1500/1500 [==============================] - 4s 3ms/step - loss: 0.3114 - accuracy: 0.8840 - val_loss: 0.3458 - val_accuracy: 0.8760\n",
            "Epoch 6/10\n",
            "1500/1500 [==============================] - 4s 3ms/step - loss: 0.2967 - accuracy: 0.8890 - val_loss: 0.3740 - val_accuracy: 0.8708\n"
          ],
          "name": "stdout"
        },
        {
          "output_type": "stream",
          "text": [
            "\u001b[32m[I 2021-05-21 10:36:54,745]\u001b[0m Trial 14 finished with value: 0.8765833377838135 and parameters: {'num_hidden': 4, 'num_units': 78, 'dropout_rate': 0.31053836639190846, 'learning_rate': 0.0015110151855087723, 'activation': 'relu'}. Best is trial 5 with value: 0.8889999985694885.\u001b[0m\n"
          ],
          "name": "stderr"
        },
        {
          "output_type": "stream",
          "text": [
            "Epoch 1/10\n",
            "1500/1500 [==============================] - 5s 3ms/step - loss: 0.6239 - accuracy: 0.7785 - val_loss: 0.3821 - val_accuracy: 0.8635\n",
            "Epoch 2/10\n",
            "1500/1500 [==============================] - 4s 3ms/step - loss: 0.3845 - accuracy: 0.8597 - val_loss: 0.3747 - val_accuracy: 0.8637\n",
            "Epoch 3/10\n",
            "1500/1500 [==============================] - 4s 3ms/step - loss: 0.3479 - accuracy: 0.8726 - val_loss: 0.3631 - val_accuracy: 0.8669\n",
            "Epoch 4/10\n",
            "1500/1500 [==============================] - 4s 3ms/step - loss: 0.3251 - accuracy: 0.8776 - val_loss: 0.3660 - val_accuracy: 0.8657\n",
            "Epoch 5/10\n",
            "1500/1500 [==============================] - 4s 3ms/step - loss: 0.3090 - accuracy: 0.8854 - val_loss: 0.3473 - val_accuracy: 0.8758\n",
            "Epoch 6/10\n",
            "1500/1500 [==============================] - 4s 3ms/step - loss: 0.2986 - accuracy: 0.8887 - val_loss: 0.3751 - val_accuracy: 0.8624\n",
            "Epoch 7/10\n",
            "1500/1500 [==============================] - 4s 3ms/step - loss: 0.2877 - accuracy: 0.8933 - val_loss: 0.3705 - val_accuracy: 0.8708\n"
          ],
          "name": "stdout"
        },
        {
          "output_type": "stream",
          "text": [
            "\u001b[32m[I 2021-05-21 10:37:26,849]\u001b[0m Trial 15 finished with value: 0.8757500052452087 and parameters: {'num_hidden': 2, 'num_units': 137, 'dropout_rate': 0.12193094753819866, 'learning_rate': 0.0022707879921088, 'activation': 'relu'}. Best is trial 5 with value: 0.8889999985694885.\u001b[0m\n"
          ],
          "name": "stderr"
        },
        {
          "output_type": "stream",
          "text": [
            "Epoch 1/10\n",
            "1500/1500 [==============================] - 8s 5ms/step - loss: 0.6835 - accuracy: 0.7510 - val_loss: 0.5073 - val_accuracy: 0.8023\n",
            "Epoch 2/10\n",
            "1500/1500 [==============================] - 7s 5ms/step - loss: 0.4031 - accuracy: 0.8513 - val_loss: 0.3911 - val_accuracy: 0.8607\n",
            "Epoch 3/10\n",
            "1500/1500 [==============================] - 7s 5ms/step - loss: 0.3555 - accuracy: 0.8664 - val_loss: 0.3839 - val_accuracy: 0.8627\n",
            "Epoch 4/10\n",
            "1500/1500 [==============================] - 7s 5ms/step - loss: 0.3301 - accuracy: 0.8791 - val_loss: 0.3650 - val_accuracy: 0.8692\n",
            "Epoch 5/10\n",
            "1500/1500 [==============================] - 7s 5ms/step - loss: 0.3099 - accuracy: 0.8857 - val_loss: 0.3751 - val_accuracy: 0.8695\n",
            "Epoch 6/10\n",
            "1500/1500 [==============================] - 7s 5ms/step - loss: 0.3013 - accuracy: 0.8882 - val_loss: 0.3530 - val_accuracy: 0.8725\n",
            "Epoch 7/10\n",
            "1500/1500 [==============================] - 7s 5ms/step - loss: 0.2844 - accuracy: 0.8927 - val_loss: 0.3423 - val_accuracy: 0.8802\n",
            "Epoch 8/10\n",
            "1500/1500 [==============================] - 7s 5ms/step - loss: 0.2667 - accuracy: 0.8993 - val_loss: 0.3515 - val_accuracy: 0.8773\n",
            "Epoch 9/10\n",
            "1500/1500 [==============================] - 7s 5ms/step - loss: 0.2625 - accuracy: 0.9030 - val_loss: 0.3236 - val_accuracy: 0.8841\n",
            "Epoch 10/10\n",
            "1500/1500 [==============================] - 7s 5ms/step - loss: 0.2539 - accuracy: 0.9048 - val_loss: 0.3221 - val_accuracy: 0.8873\n"
          ],
          "name": "stdout"
        },
        {
          "output_type": "stream",
          "text": [
            "\u001b[32m[I 2021-05-21 10:38:37,347]\u001b[0m Trial 16 finished with value: 0.8872500061988831 and parameters: {'num_hidden': 5, 'num_units': 176, 'dropout_rate': 0.499275357454495, 'learning_rate': 0.0010675415756182048, 'activation': 'relu'}. Best is trial 5 with value: 0.8889999985694885.\u001b[0m\n"
          ],
          "name": "stderr"
        },
        {
          "output_type": "stream",
          "text": [
            "Epoch 1/10\n",
            "1500/1500 [==============================] - 5s 3ms/step - loss: 1.1564 - accuracy: 0.5712 - val_loss: 0.4995 - val_accuracy: 0.8182\n",
            "Epoch 2/10\n",
            "1500/1500 [==============================] - 4s 3ms/step - loss: 0.4690 - accuracy: 0.8305 - val_loss: 0.4504 - val_accuracy: 0.8387\n",
            "Epoch 3/10\n",
            "1500/1500 [==============================] - 4s 3ms/step - loss: 0.3946 - accuracy: 0.8602 - val_loss: 0.3934 - val_accuracy: 0.8605\n",
            "Epoch 4/10\n",
            "1500/1500 [==============================] - 4s 3ms/step - loss: 0.3590 - accuracy: 0.8710 - val_loss: 0.3781 - val_accuracy: 0.8673\n",
            "Epoch 5/10\n",
            "1500/1500 [==============================] - 4s 3ms/step - loss: 0.3348 - accuracy: 0.8807 - val_loss: 0.3690 - val_accuracy: 0.8686\n",
            "Epoch 6/10\n",
            "1500/1500 [==============================] - 4s 3ms/step - loss: 0.3214 - accuracy: 0.8843 - val_loss: 0.3617 - val_accuracy: 0.8727\n",
            "Epoch 7/10\n",
            "1500/1500 [==============================] - 4s 3ms/step - loss: 0.3021 - accuracy: 0.8900 - val_loss: 0.3539 - val_accuracy: 0.8777\n",
            "Epoch 8/10\n",
            "1500/1500 [==============================] - 4s 3ms/step - loss: 0.2945 - accuracy: 0.8944 - val_loss: 0.3469 - val_accuracy: 0.8758\n",
            "Epoch 9/10\n",
            "1500/1500 [==============================] - 4s 3ms/step - loss: 0.2833 - accuracy: 0.8966 - val_loss: 0.3478 - val_accuracy: 0.8789\n",
            "Epoch 10/10\n",
            "1500/1500 [==============================] - 4s 3ms/step - loss: 0.2758 - accuracy: 0.8970 - val_loss: 0.3453 - val_accuracy: 0.8769\n"
          ],
          "name": "stdout"
        },
        {
          "output_type": "stream",
          "text": [
            "\u001b[32m[I 2021-05-21 10:39:20,053]\u001b[0m Trial 17 finished with value: 0.8789166808128357 and parameters: {'num_hidden': 4, 'num_units': 77, 'dropout_rate': 0.27868972403036457, 'learning_rate': 0.0020887888434468383, 'activation': 'sigmoid'}. Best is trial 5 with value: 0.8889999985694885.\u001b[0m\n"
          ],
          "name": "stderr"
        },
        {
          "output_type": "stream",
          "text": [
            "Epoch 1/10\n",
            "1500/1500 [==============================] - 6s 4ms/step - loss: 0.6484 - accuracy: 0.7694 - val_loss: 0.4012 - val_accuracy: 0.8569\n",
            "Epoch 2/10\n",
            "1500/1500 [==============================] - 5s 3ms/step - loss: 0.3863 - accuracy: 0.8578 - val_loss: 0.3746 - val_accuracy: 0.8652\n",
            "Epoch 3/10\n",
            "1500/1500 [==============================] - 5s 3ms/step - loss: 0.3448 - accuracy: 0.8713 - val_loss: 0.3450 - val_accuracy: 0.8737\n",
            "Epoch 4/10\n",
            "1500/1500 [==============================] - 5s 3ms/step - loss: 0.3191 - accuracy: 0.8810 - val_loss: 0.3407 - val_accuracy: 0.8740\n",
            "Epoch 5/10\n",
            "1500/1500 [==============================] - 5s 3ms/step - loss: 0.3009 - accuracy: 0.8863 - val_loss: 0.3367 - val_accuracy: 0.8831\n",
            "Epoch 6/10\n",
            "1500/1500 [==============================] - 5s 3ms/step - loss: 0.2830 - accuracy: 0.8943 - val_loss: 0.3298 - val_accuracy: 0.8852\n",
            "Epoch 7/10\n",
            "1500/1500 [==============================] - 5s 3ms/step - loss: 0.2676 - accuracy: 0.9001 - val_loss: 0.3287 - val_accuracy: 0.8806\n",
            "Epoch 8/10\n",
            "1500/1500 [==============================] - 5s 4ms/step - loss: 0.2602 - accuracy: 0.9012 - val_loss: 0.3357 - val_accuracy: 0.8815\n"
          ],
          "name": "stdout"
        },
        {
          "output_type": "stream",
          "text": [
            "\u001b[32m[I 2021-05-21 10:40:01,101]\u001b[0m Trial 18 finished with value: 0.8852499723434448 and parameters: {'num_hidden': 3, 'num_units': 141, 'dropout_rate': 0.1916409590794369, 'learning_rate': 0.00137289796404542, 'activation': 'relu'}. Best is trial 5 with value: 0.8889999985694885.\u001b[0m\n"
          ],
          "name": "stderr"
        },
        {
          "output_type": "stream",
          "text": [
            "Epoch 1/10\n",
            "1500/1500 [==============================] - 6s 4ms/step - loss: 0.6334 - accuracy: 0.7735 - val_loss: 0.4150 - val_accuracy: 0.8474\n",
            "Epoch 2/10\n",
            "1500/1500 [==============================] - 6s 4ms/step - loss: 0.3850 - accuracy: 0.8586 - val_loss: 0.3853 - val_accuracy: 0.8618\n",
            "Epoch 3/10\n",
            "1500/1500 [==============================] - 6s 4ms/step - loss: 0.3471 - accuracy: 0.8741 - val_loss: 0.3760 - val_accuracy: 0.8586\n",
            "Epoch 4/10\n",
            "1500/1500 [==============================] - 5s 4ms/step - loss: 0.3253 - accuracy: 0.8803 - val_loss: 0.3593 - val_accuracy: 0.8665\n",
            "Epoch 5/10\n",
            "1500/1500 [==============================] - 6s 4ms/step - loss: 0.3017 - accuracy: 0.8876 - val_loss: 0.3395 - val_accuracy: 0.8783\n",
            "Epoch 6/10\n",
            "1500/1500 [==============================] - 5s 4ms/step - loss: 0.2921 - accuracy: 0.8908 - val_loss: 0.3392 - val_accuracy: 0.8782\n",
            "Epoch 7/10\n",
            "1500/1500 [==============================] - 5s 4ms/step - loss: 0.2885 - accuracy: 0.8909 - val_loss: 0.3632 - val_accuracy: 0.8744\n"
          ],
          "name": "stdout"
        },
        {
          "output_type": "stream",
          "text": [
            "\u001b[32m[I 2021-05-21 10:40:40,611]\u001b[0m Trial 19 finished with value: 0.878250002861023 and parameters: {'num_hidden': 2, 'num_units': 177, 'dropout_rate': 0.05788589820477115, 'learning_rate': 0.0025390090316037978, 'activation': 'relu'}. Best is trial 5 with value: 0.8889999985694885.\u001b[0m\n"
          ],
          "name": "stderr"
        },
        {
          "output_type": "stream",
          "text": [
            "Epoch 1/10\n",
            "1500/1500 [==============================] - 6s 4ms/step - loss: 0.6602 - accuracy: 0.7565 - val_loss: 0.4217 - val_accuracy: 0.8434\n",
            "Epoch 2/10\n",
            "1500/1500 [==============================] - 5s 4ms/step - loss: 0.3958 - accuracy: 0.8527 - val_loss: 0.3909 - val_accuracy: 0.8577\n",
            "Epoch 3/10\n",
            "1500/1500 [==============================] - 5s 4ms/step - loss: 0.3450 - accuracy: 0.8732 - val_loss: 0.3649 - val_accuracy: 0.8691\n",
            "Epoch 4/10\n",
            "1500/1500 [==============================] - 5s 3ms/step - loss: 0.3291 - accuracy: 0.8784 - val_loss: 0.3749 - val_accuracy: 0.8653\n",
            "Epoch 5/10\n",
            "1500/1500 [==============================] - 5s 3ms/step - loss: 0.3109 - accuracy: 0.8836 - val_loss: 0.3887 - val_accuracy: 0.8642\n"
          ],
          "name": "stdout"
        },
        {
          "output_type": "stream",
          "text": [
            "\u001b[32m[I 2021-05-21 10:41:07,966]\u001b[0m Trial 20 finished with value: 0.8690833449363708 and parameters: {'num_hidden': 4, 'num_units': 126, 'dropout_rate': 0.42429275701240277, 'learning_rate': 0.0012053985110320484, 'activation': 'relu'}. Best is trial 5 with value: 0.8889999985694885.\u001b[0m\n"
          ],
          "name": "stderr"
        },
        {
          "output_type": "stream",
          "text": [
            "Epoch 1/10\n",
            "1500/1500 [==============================] - 8s 5ms/step - loss: 0.6849 - accuracy: 0.7467 - val_loss: 0.4668 - val_accuracy: 0.8340\n",
            "Epoch 2/10\n",
            "1500/1500 [==============================] - 7s 5ms/step - loss: 0.4033 - accuracy: 0.8538 - val_loss: 0.4322 - val_accuracy: 0.8441\n",
            "Epoch 3/10\n",
            "1500/1500 [==============================] - 7s 5ms/step - loss: 0.3572 - accuracy: 0.8707 - val_loss: 0.3669 - val_accuracy: 0.8687\n",
            "Epoch 4/10\n",
            "1500/1500 [==============================] - 7s 5ms/step - loss: 0.3277 - accuracy: 0.8787 - val_loss: 0.3489 - val_accuracy: 0.8776\n",
            "Epoch 5/10\n",
            "1500/1500 [==============================] - 7s 5ms/step - loss: 0.3170 - accuracy: 0.8836 - val_loss: 0.3537 - val_accuracy: 0.8723\n",
            "Epoch 6/10\n",
            "1500/1500 [==============================] - 7s 5ms/step - loss: 0.2975 - accuracy: 0.8923 - val_loss: 0.3772 - val_accuracy: 0.8748\n"
          ],
          "name": "stdout"
        },
        {
          "output_type": "stream",
          "text": [
            "\u001b[32m[I 2021-05-21 10:41:51,457]\u001b[0m Trial 21 finished with value: 0.8775833249092102 and parameters: {'num_hidden': 5, 'num_units': 176, 'dropout_rate': 0.49665542693639353, 'learning_rate': 0.0010185048281658529, 'activation': 'relu'}. Best is trial 5 with value: 0.8889999985694885.\u001b[0m\n"
          ],
          "name": "stderr"
        },
        {
          "output_type": "stream",
          "text": [
            "Epoch 1/10\n",
            "1500/1500 [==============================] - 9s 5ms/step - loss: 0.6779 - accuracy: 0.7478 - val_loss: 0.4481 - val_accuracy: 0.8334\n",
            "Epoch 2/10\n",
            "1500/1500 [==============================] - 8s 5ms/step - loss: 0.4211 - accuracy: 0.8476 - val_loss: 0.3967 - val_accuracy: 0.8543\n",
            "Epoch 3/10\n",
            "1500/1500 [==============================] - 8s 5ms/step - loss: 0.3755 - accuracy: 0.8648 - val_loss: 0.3983 - val_accuracy: 0.8593\n",
            "Epoch 4/10\n",
            "1500/1500 [==============================] - 8s 5ms/step - loss: 0.3481 - accuracy: 0.8732 - val_loss: 0.3798 - val_accuracy: 0.8670\n",
            "Epoch 5/10\n",
            "1500/1500 [==============================] - 8s 5ms/step - loss: 0.3369 - accuracy: 0.8755 - val_loss: 0.3593 - val_accuracy: 0.8767\n",
            "Epoch 6/10\n",
            "1500/1500 [==============================] - 8s 5ms/step - loss: 0.3219 - accuracy: 0.8838 - val_loss: 0.3563 - val_accuracy: 0.8791\n",
            "Epoch 7/10\n",
            "1500/1500 [==============================] - 8s 5ms/step - loss: 0.2986 - accuracy: 0.8885 - val_loss: 0.3485 - val_accuracy: 0.8766\n",
            "Epoch 8/10\n",
            "1500/1500 [==============================] - 8s 5ms/step - loss: 0.2884 - accuracy: 0.8930 - val_loss: 0.3705 - val_accuracy: 0.8711\n"
          ],
          "name": "stdout"
        },
        {
          "output_type": "stream",
          "text": [
            "\u001b[32m[I 2021-05-21 10:42:54,857]\u001b[0m Trial 22 finished with value: 0.8790833353996277 and parameters: {'num_hidden': 5, 'num_units': 200, 'dropout_rate': 0.4030046597530256, 'learning_rate': 0.0017685022102229208, 'activation': 'relu'}. Best is trial 5 with value: 0.8889999985694885.\u001b[0m\n"
          ],
          "name": "stderr"
        },
        {
          "output_type": "stream",
          "text": [
            "Epoch 1/10\n",
            "1500/1500 [==============================] - 8s 5ms/step - loss: 0.6856 - accuracy: 0.7473 - val_loss: 0.4476 - val_accuracy: 0.8293\n",
            "Epoch 2/10\n",
            "1500/1500 [==============================] - 7s 5ms/step - loss: 0.4019 - accuracy: 0.8523 - val_loss: 0.4127 - val_accuracy: 0.8537\n",
            "Epoch 3/10\n",
            "1500/1500 [==============================] - 7s 5ms/step - loss: 0.3597 - accuracy: 0.8671 - val_loss: 0.3628 - val_accuracy: 0.8737\n",
            "Epoch 4/10\n",
            "1500/1500 [==============================] - 7s 5ms/step - loss: 0.3337 - accuracy: 0.8757 - val_loss: 0.3451 - val_accuracy: 0.8786\n",
            "Epoch 5/10\n",
            "1500/1500 [==============================] - 7s 5ms/step - loss: 0.3097 - accuracy: 0.8872 - val_loss: 0.3491 - val_accuracy: 0.8792\n",
            "Epoch 6/10\n",
            "1500/1500 [==============================] - 7s 5ms/step - loss: 0.3012 - accuracy: 0.8922 - val_loss: 0.3461 - val_accuracy: 0.8798\n",
            "Epoch 7/10\n",
            "1500/1500 [==============================] - 7s 5ms/step - loss: 0.2823 - accuracy: 0.8963 - val_loss: 0.3381 - val_accuracy: 0.8789\n",
            "Epoch 8/10\n",
            "1500/1500 [==============================] - 7s 5ms/step - loss: 0.2665 - accuracy: 0.9029 - val_loss: 0.4068 - val_accuracy: 0.8537\n"
          ],
          "name": "stdout"
        },
        {
          "output_type": "stream",
          "text": [
            "\u001b[32m[I 2021-05-21 10:43:51,333]\u001b[0m Trial 23 finished with value: 0.8798333406448364 and parameters: {'num_hidden': 5, 'num_units': 162, 'dropout_rate': 0.49189538579609365, 'learning_rate': 0.001181967846292996, 'activation': 'relu'}. Best is trial 5 with value: 0.8889999985694885.\u001b[0m\n"
          ],
          "name": "stderr"
        },
        {
          "output_type": "stream",
          "text": [
            "Epoch 1/10\n",
            "1500/1500 [==============================] - 8s 5ms/step - loss: 0.6593 - accuracy: 0.7577 - val_loss: 0.4523 - val_accuracy: 0.8382\n",
            "Epoch 2/10\n",
            "1500/1500 [==============================] - 7s 5ms/step - loss: 0.3894 - accuracy: 0.8554 - val_loss: 0.3848 - val_accuracy: 0.8596\n",
            "Epoch 3/10\n",
            "1500/1500 [==============================] - 7s 5ms/step - loss: 0.3540 - accuracy: 0.8689 - val_loss: 0.3630 - val_accuracy: 0.8694\n",
            "Epoch 4/10\n",
            "1500/1500 [==============================] - 7s 5ms/step - loss: 0.3352 - accuracy: 0.8760 - val_loss: 0.3431 - val_accuracy: 0.8795\n",
            "Epoch 5/10\n",
            "1500/1500 [==============================] - 7s 5ms/step - loss: 0.3117 - accuracy: 0.8853 - val_loss: 0.3297 - val_accuracy: 0.8838\n",
            "Epoch 6/10\n",
            "1500/1500 [==============================] - 7s 5ms/step - loss: 0.3007 - accuracy: 0.8882 - val_loss: 0.3301 - val_accuracy: 0.8822\n",
            "Epoch 7/10\n",
            "1500/1500 [==============================] - 7s 5ms/step - loss: 0.2804 - accuracy: 0.8958 - val_loss: 0.3476 - val_accuracy: 0.8745\n"
          ],
          "name": "stdout"
        },
        {
          "output_type": "stream",
          "text": [
            "\u001b[32m[I 2021-05-21 10:44:41,625]\u001b[0m Trial 24 finished with value: 0.8838333487510681 and parameters: {'num_hidden': 4, 'num_units': 187, 'dropout_rate': 0.08810108460234128, 'learning_rate': 0.001244110045008974, 'activation': 'relu'}. Best is trial 5 with value: 0.8889999985694885.\u001b[0m\n"
          ],
          "name": "stderr"
        },
        {
          "output_type": "stream",
          "text": [
            "Epoch 1/10\n",
            "1500/1500 [==============================] - 6s 4ms/step - loss: 0.6549 - accuracy: 0.7648 - val_loss: 0.4015 - val_accuracy: 0.8508\n",
            "Epoch 2/10\n",
            "1500/1500 [==============================] - 6s 4ms/step - loss: 0.3846 - accuracy: 0.8566 - val_loss: 0.3780 - val_accuracy: 0.8627\n",
            "Epoch 3/10\n",
            "1500/1500 [==============================] - 6s 4ms/step - loss: 0.3412 - accuracy: 0.8735 - val_loss: 0.3583 - val_accuracy: 0.8687\n",
            "Epoch 4/10\n",
            "1500/1500 [==============================] - 6s 4ms/step - loss: 0.3109 - accuracy: 0.8850 - val_loss: 0.3558 - val_accuracy: 0.8718\n",
            "Epoch 5/10\n",
            "1500/1500 [==============================] - 6s 4ms/step - loss: 0.2980 - accuracy: 0.8864 - val_loss: 0.3297 - val_accuracy: 0.8827\n",
            "Epoch 6/10\n",
            "1500/1500 [==============================] - 6s 4ms/step - loss: 0.2809 - accuracy: 0.8942 - val_loss: 0.3160 - val_accuracy: 0.8868\n",
            "Epoch 7/10\n",
            "1500/1500 [==============================] - 6s 4ms/step - loss: 0.2616 - accuracy: 0.9021 - val_loss: 0.3374 - val_accuracy: 0.8816\n",
            "Epoch 8/10\n",
            "1500/1500 [==============================] - 6s 4ms/step - loss: 0.2572 - accuracy: 0.9044 - val_loss: 0.3223 - val_accuracy: 0.8840\n"
          ],
          "name": "stdout"
        },
        {
          "output_type": "stream",
          "text": [
            "\u001b[32m[I 2021-05-21 10:45:27,365]\u001b[0m Trial 25 finished with value: 0.8868333101272583 and parameters: {'num_hidden': 3, 'num_units': 158, 'dropout_rate': 0.006637063856655384, 'learning_rate': 0.0010036760022524068, 'activation': 'relu'}. Best is trial 5 with value: 0.8889999985694885.\u001b[0m\n"
          ],
          "name": "stderr"
        },
        {
          "output_type": "stream",
          "text": [
            "Epoch 1/10\n",
            "1500/1500 [==============================] - 9s 5ms/step - loss: 0.6805 - accuracy: 0.7496 - val_loss: 0.4218 - val_accuracy: 0.8559\n",
            "Epoch 2/10\n",
            "1500/1500 [==============================] - 8s 5ms/step - loss: 0.4187 - accuracy: 0.8475 - val_loss: 0.3945 - val_accuracy: 0.8568\n",
            "Epoch 3/10\n",
            "1500/1500 [==============================] - 7s 5ms/step - loss: 0.3729 - accuracy: 0.8634 - val_loss: 0.3965 - val_accuracy: 0.8624\n",
            "Epoch 4/10\n",
            "1500/1500 [==============================] - 8s 5ms/step - loss: 0.3488 - accuracy: 0.8751 - val_loss: 0.3571 - val_accuracy: 0.8776\n",
            "Epoch 5/10\n",
            "1500/1500 [==============================] - 8s 5ms/step - loss: 0.3239 - accuracy: 0.8818 - val_loss: 0.3666 - val_accuracy: 0.8703\n",
            "Epoch 6/10\n",
            "1500/1500 [==============================] - 8s 5ms/step - loss: 0.3162 - accuracy: 0.8845 - val_loss: 0.3602 - val_accuracy: 0.8738\n"
          ],
          "name": "stdout"
        },
        {
          "output_type": "stream",
          "text": [
            "\u001b[32m[I 2021-05-21 10:46:15,495]\u001b[0m Trial 26 finished with value: 0.8775833249092102 and parameters: {'num_hidden': 5, 'num_units': 179, 'dropout_rate': 0.1975321725845942, 'learning_rate': 0.0017348766123135503, 'activation': 'relu'}. Best is trial 5 with value: 0.8889999985694885.\u001b[0m\n"
          ],
          "name": "stderr"
        },
        {
          "output_type": "stream",
          "text": [
            "Epoch 1/10\n",
            "1500/1500 [==============================] - 6s 4ms/step - loss: 0.9755 - accuracy: 0.6210 - val_loss: 0.4471 - val_accuracy: 0.8420\n",
            "Epoch 2/10\n",
            "1500/1500 [==============================] - 6s 4ms/step - loss: 0.4389 - accuracy: 0.8417 - val_loss: 0.4030 - val_accuracy: 0.8528\n",
            "Epoch 3/10\n",
            "1500/1500 [==============================] - 5s 4ms/step - loss: 0.3742 - accuracy: 0.8645 - val_loss: 0.3626 - val_accuracy: 0.8702\n",
            "Epoch 4/10\n",
            "1500/1500 [==============================] - 6s 4ms/step - loss: 0.3585 - accuracy: 0.8691 - val_loss: 0.3739 - val_accuracy: 0.8663\n",
            "Epoch 5/10\n",
            "1500/1500 [==============================] - 5s 4ms/step - loss: 0.3255 - accuracy: 0.8799 - val_loss: 0.3674 - val_accuracy: 0.8627\n"
          ],
          "name": "stdout"
        },
        {
          "output_type": "stream",
          "text": [
            "\u001b[32m[I 2021-05-21 10:46:44,342]\u001b[0m Trial 27 finished with value: 0.8702499866485596 and parameters: {'num_hidden': 4, 'num_units': 132, 'dropout_rate': 0.2711658614230551, 'learning_rate': 0.002784997224988095, 'activation': 'sigmoid'}. Best is trial 5 with value: 0.8889999985694885.\u001b[0m\n"
          ],
          "name": "stderr"
        },
        {
          "output_type": "stream",
          "text": [
            "Epoch 1/10\n",
            "1500/1500 [==============================] - 7s 4ms/step - loss: 0.6369 - accuracy: 0.7693 - val_loss: 0.3904 - val_accuracy: 0.8568\n",
            "Epoch 2/10\n",
            "1500/1500 [==============================] - 6s 4ms/step - loss: 0.3880 - accuracy: 0.8581 - val_loss: 0.3866 - val_accuracy: 0.8516\n",
            "Epoch 3/10\n",
            "1500/1500 [==============================] - 6s 4ms/step - loss: 0.3438 - accuracy: 0.8721 - val_loss: 0.3531 - val_accuracy: 0.8710\n",
            "Epoch 4/10\n",
            "1500/1500 [==============================] - 6s 4ms/step - loss: 0.3209 - accuracy: 0.8813 - val_loss: 0.3588 - val_accuracy: 0.8731\n",
            "Epoch 5/10\n",
            "1500/1500 [==============================] - 6s 4ms/step - loss: 0.3008 - accuracy: 0.8907 - val_loss: 0.3540 - val_accuracy: 0.8765\n",
            "Epoch 6/10\n",
            "1500/1500 [==============================] - 6s 4ms/step - loss: 0.2920 - accuracy: 0.8923 - val_loss: 0.3381 - val_accuracy: 0.8804\n",
            "Epoch 7/10\n",
            "1500/1500 [==============================] - 6s 4ms/step - loss: 0.2743 - accuracy: 0.8969 - val_loss: 0.3469 - val_accuracy: 0.8813\n",
            "Epoch 8/10\n",
            "1500/1500 [==============================] - 6s 4ms/step - loss: 0.2639 - accuracy: 0.9010 - val_loss: 0.3433 - val_accuracy: 0.8823\n",
            "Epoch 9/10\n",
            "1500/1500 [==============================] - 6s 4ms/step - loss: 0.2541 - accuracy: 0.9051 - val_loss: 0.3282 - val_accuracy: 0.8836\n",
            "Epoch 10/10\n",
            "1500/1500 [==============================] - 6s 4ms/step - loss: 0.2481 - accuracy: 0.9059 - val_loss: 0.3627 - val_accuracy: 0.8837\n"
          ],
          "name": "stdout"
        },
        {
          "output_type": "stream",
          "text": [
            "\u001b[32m[I 2021-05-21 10:47:48,308]\u001b[0m Trial 28 finished with value: 0.8836666941642761 and parameters: {'num_hidden': 3, 'num_units': 200, 'dropout_rate': 0.3394800578759264, 'learning_rate': 0.0015687998857753568, 'activation': 'relu'}. Best is trial 5 with value: 0.8889999985694885.\u001b[0m\n"
          ],
          "name": "stderr"
        },
        {
          "output_type": "stream",
          "text": [
            "Epoch 1/10\n",
            "1500/1500 [==============================] - 7s 4ms/step - loss: 0.6593 - accuracy: 0.7569 - val_loss: 0.4097 - val_accuracy: 0.8512\n",
            "Epoch 2/10\n",
            "1500/1500 [==============================] - 6s 4ms/step - loss: 0.3986 - accuracy: 0.8538 - val_loss: 0.3893 - val_accuracy: 0.8583\n",
            "Epoch 3/10\n",
            "1500/1500 [==============================] - 6s 4ms/step - loss: 0.3679 - accuracy: 0.8658 - val_loss: 0.3512 - val_accuracy: 0.8732\n",
            "Epoch 4/10\n",
            "1500/1500 [==============================] - 6s 4ms/step - loss: 0.3380 - accuracy: 0.8756 - val_loss: 0.3601 - val_accuracy: 0.8693\n",
            "Epoch 5/10\n",
            "1500/1500 [==============================] - 6s 4ms/step - loss: 0.3215 - accuracy: 0.8822 - val_loss: 0.3831 - val_accuracy: 0.8618\n"
          ],
          "name": "stdout"
        },
        {
          "output_type": "stream",
          "text": [
            "\u001b[32m[I 2021-05-21 10:48:18,618]\u001b[0m Trial 29 finished with value: 0.8731666803359985 and parameters: {'num_hidden': 4, 'num_units': 147, 'dropout_rate': 0.1624392034662545, 'learning_rate': 0.0019136496836809427, 'activation': 'relu'}. Best is trial 5 with value: 0.8889999985694885.\u001b[0m\n"
          ],
          "name": "stderr"
        },
        {
          "output_type": "stream",
          "text": [
            "Epoch 1/10\n",
            "1500/1500 [==============================] - 7s 5ms/step - loss: 0.6830 - accuracy: 0.7497 - val_loss: 0.4213 - val_accuracy: 0.8508\n",
            "Epoch 2/10\n",
            "1500/1500 [==============================] - 7s 5ms/step - loss: 0.4002 - accuracy: 0.8551 - val_loss: 0.3695 - val_accuracy: 0.8692\n",
            "Epoch 3/10\n",
            "1500/1500 [==============================] - 7s 5ms/step - loss: 0.3563 - accuracy: 0.8692 - val_loss: 0.3839 - val_accuracy: 0.8668\n",
            "Epoch 4/10\n",
            "1500/1500 [==============================] - 7s 5ms/step - loss: 0.3290 - accuracy: 0.8818 - val_loss: 0.3512 - val_accuracy: 0.8792\n",
            "Epoch 5/10\n",
            "1500/1500 [==============================] - 7s 4ms/step - loss: 0.3131 - accuracy: 0.8876 - val_loss: 0.3757 - val_accuracy: 0.8662\n",
            "Epoch 6/10\n",
            "1500/1500 [==============================] - 7s 5ms/step - loss: 0.3020 - accuracy: 0.8903 - val_loss: 0.3576 - val_accuracy: 0.8787\n"
          ],
          "name": "stdout"
        },
        {
          "output_type": "stream",
          "text": [
            "\u001b[32m[I 2021-05-21 10:49:00,148]\u001b[0m Trial 30 finished with value: 0.8791666626930237 and parameters: {'num_hidden': 5, 'num_units': 154, 'dropout_rate': 0.08851176919823425, 'learning_rate': 0.0012907776044657855, 'activation': 'relu'}. Best is trial 5 with value: 0.8889999985694885.\u001b[0m\n"
          ],
          "name": "stderr"
        },
        {
          "output_type": "stream",
          "text": [
            "Epoch 1/10\n",
            "1500/1500 [==============================] - 4s 3ms/step - loss: 0.7453 - accuracy: 0.7526 - val_loss: 0.4402 - val_accuracy: 0.8384\n",
            "Epoch 2/10\n",
            "1500/1500 [==============================] - 4s 3ms/step - loss: 0.4126 - accuracy: 0.8522 - val_loss: 0.3902 - val_accuracy: 0.8583\n",
            "Epoch 3/10\n",
            "1500/1500 [==============================] - 4s 3ms/step - loss: 0.3697 - accuracy: 0.8681 - val_loss: 0.3601 - val_accuracy: 0.8668\n",
            "Epoch 4/10\n",
            "1500/1500 [==============================] - 4s 3ms/step - loss: 0.3362 - accuracy: 0.8791 - val_loss: 0.3569 - val_accuracy: 0.8704\n",
            "Epoch 5/10\n",
            "1500/1500 [==============================] - 4s 3ms/step - loss: 0.3187 - accuracy: 0.8849 - val_loss: 0.3547 - val_accuracy: 0.8689\n",
            "Epoch 6/10\n",
            "1500/1500 [==============================] - 4s 3ms/step - loss: 0.3025 - accuracy: 0.8889 - val_loss: 0.3294 - val_accuracy: 0.8799\n",
            "Epoch 7/10\n",
            "1500/1500 [==============================] - 4s 3ms/step - loss: 0.2879 - accuracy: 0.8920 - val_loss: 0.3322 - val_accuracy: 0.8804\n",
            "Epoch 8/10\n",
            "1500/1500 [==============================] - 4s 3ms/step - loss: 0.2771 - accuracy: 0.8978 - val_loss: 0.3195 - val_accuracy: 0.8798\n",
            "Epoch 9/10\n",
            "1500/1500 [==============================] - 4s 3ms/step - loss: 0.2592 - accuracy: 0.9036 - val_loss: 0.3245 - val_accuracy: 0.8795\n"
          ],
          "name": "stdout"
        },
        {
          "output_type": "stream",
          "text": [
            "\u001b[32m[I 2021-05-21 10:49:38,534]\u001b[0m Trial 31 finished with value: 0.8804166913032532 and parameters: {'num_hidden': 1, 'num_units': 184, 'dropout_rate': 0.4061814319641259, 'learning_rate': 0.0010054225980340918, 'activation': 'sigmoid'}. Best is trial 5 with value: 0.8889999985694885.\u001b[0m\n"
          ],
          "name": "stderr"
        },
        {
          "output_type": "stream",
          "text": [
            "Epoch 1/10\n",
            "1500/1500 [==============================] - 5s 3ms/step - loss: 0.7220 - accuracy: 0.7586 - val_loss: 0.4295 - val_accuracy: 0.8448\n",
            "Epoch 2/10\n",
            "1500/1500 [==============================] - 4s 3ms/step - loss: 0.4024 - accuracy: 0.8541 - val_loss: 0.4080 - val_accuracy: 0.8518\n",
            "Epoch 3/10\n",
            "1500/1500 [==============================] - 4s 3ms/step - loss: 0.3631 - accuracy: 0.8679 - val_loss: 0.3528 - val_accuracy: 0.8734\n",
            "Epoch 4/10\n",
            "1500/1500 [==============================] - 4s 3ms/step - loss: 0.3357 - accuracy: 0.8781 - val_loss: 0.3389 - val_accuracy: 0.8748\n",
            "Epoch 5/10\n",
            "1500/1500 [==============================] - 4s 3ms/step - loss: 0.3135 - accuracy: 0.8848 - val_loss: 0.3387 - val_accuracy: 0.8774\n",
            "Epoch 6/10\n",
            "1500/1500 [==============================] - 4s 3ms/step - loss: 0.2966 - accuracy: 0.8923 - val_loss: 0.3116 - val_accuracy: 0.8830\n",
            "Epoch 7/10\n",
            "1500/1500 [==============================] - 4s 3ms/step - loss: 0.2773 - accuracy: 0.8977 - val_loss: 0.3175 - val_accuracy: 0.8845\n",
            "Epoch 8/10\n",
            "1500/1500 [==============================] - 4s 3ms/step - loss: 0.2643 - accuracy: 0.9027 - val_loss: 0.3175 - val_accuracy: 0.8837\n",
            "Epoch 9/10\n",
            "1500/1500 [==============================] - 4s 3ms/step - loss: 0.2505 - accuracy: 0.9068 - val_loss: 0.3164 - val_accuracy: 0.8834\n"
          ],
          "name": "stdout"
        },
        {
          "output_type": "stream",
          "text": [
            "\u001b[32m[I 2021-05-21 10:50:18,362]\u001b[0m Trial 32 finished with value: 0.8845000267028809 and parameters: {'num_hidden': 1, 'num_units': 194, 'dropout_rate': 0.38051579670677854, 'learning_rate': 0.0011004884764370846, 'activation': 'sigmoid'}. Best is trial 5 with value: 0.8889999985694885.\u001b[0m\n"
          ],
          "name": "stderr"
        },
        {
          "output_type": "stream",
          "text": [
            "Epoch 1/10\n",
            "1500/1500 [==============================] - 5s 3ms/step - loss: 0.8060 - accuracy: 0.7217 - val_loss: 0.4174 - val_accuracy: 0.8528\n",
            "Epoch 2/10\n",
            "1500/1500 [==============================] - 5s 3ms/step - loss: 0.4052 - accuracy: 0.8510 - val_loss: 0.3640 - val_accuracy: 0.8654\n",
            "Epoch 3/10\n",
            "1500/1500 [==============================] - 5s 3ms/step - loss: 0.3504 - accuracy: 0.8730 - val_loss: 0.3548 - val_accuracy: 0.8700\n",
            "Epoch 4/10\n",
            "1500/1500 [==============================] - 5s 3ms/step - loss: 0.3309 - accuracy: 0.8762 - val_loss: 0.3329 - val_accuracy: 0.8794\n",
            "Epoch 5/10\n",
            "1500/1500 [==============================] - 5s 3ms/step - loss: 0.3033 - accuracy: 0.8895 - val_loss: 0.3265 - val_accuracy: 0.8798\n",
            "Epoch 6/10\n",
            "1500/1500 [==============================] - 5s 3ms/step - loss: 0.2934 - accuracy: 0.8918 - val_loss: 0.3247 - val_accuracy: 0.8827\n",
            "Epoch 7/10\n",
            "1500/1500 [==============================] - 5s 3ms/step - loss: 0.2729 - accuracy: 0.8977 - val_loss: 0.3205 - val_accuracy: 0.8830\n",
            "Epoch 8/10\n",
            "1500/1500 [==============================] - 5s 3ms/step - loss: 0.2597 - accuracy: 0.9022 - val_loss: 0.3047 - val_accuracy: 0.8888\n",
            "Epoch 9/10\n",
            "1500/1500 [==============================] - 5s 3ms/step - loss: 0.2446 - accuracy: 0.9076 - val_loss: 0.3037 - val_accuracy: 0.8896\n",
            "Epoch 10/10\n",
            "1500/1500 [==============================] - 5s 3ms/step - loss: 0.2352 - accuracy: 0.9118 - val_loss: 0.3011 - val_accuracy: 0.8914\n"
          ],
          "name": "stdout"
        },
        {
          "output_type": "stream",
          "text": [
            "\u001b[32m[I 2021-05-21 10:51:08,085]\u001b[0m Trial 33 finished with value: 0.8914166688919067 and parameters: {'num_hidden': 2, 'num_units': 168, 'dropout_rate': 0.4548896697034186, 'learning_rate': 0.001372144650529276, 'activation': 'sigmoid'}. Best is trial 33 with value: 0.8914166688919067.\u001b[0m\n"
          ],
          "name": "stderr"
        },
        {
          "output_type": "stream",
          "text": [
            "Epoch 1/10\n",
            " 944/1500 [=================>............] - ETA: 1s - loss: 0.9165 - accuracy: 0.6926"
          ],
          "name": "stdout"
        }
      ]
    },
    {
      "cell_type": "code",
      "metadata": {
        "id": "BaKQle4EbyRd"
      },
      "source": [
        ""
      ],
      "execution_count": null,
      "outputs": []
    }
  ]
}