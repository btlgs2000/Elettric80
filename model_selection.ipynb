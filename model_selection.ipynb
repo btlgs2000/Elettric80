{
  "nbformat": 4,
  "nbformat_minor": 0,
  "metadata": {
    "colab": {
      "name": "model_selection.ipynb",
      "provenance": [],
      "collapsed_sections": [],
      "authorship_tag": "ABX9TyMb8rYriH8AfBYuAdbnnMmY",
      "include_colab_link": true
    },
    "kernelspec": {
      "name": "python3",
      "display_name": "Python 3"
    },
    "language_info": {
      "name": "python"
    }
  },
  "cells": [
    {
      "cell_type": "markdown",
      "metadata": {
        "id": "view-in-github",
        "colab_type": "text"
      },
      "source": [
        "<a href=\"https://colab.research.google.com/github/btlgs2000/Elettric80/blob/main/model_selection.ipynb\" target=\"_parent\"><img src=\"https://colab.research.google.com/assets/colab-badge.svg\" alt=\"Open In Colab\"/></a>"
      ]
    },
    {
      "cell_type": "code",
      "metadata": {
        "id": "xpP5mh2obVUA"
      },
      "source": [
        "# pip install optuna"
      ],
      "execution_count": null,
      "outputs": []
    },
    {
      "cell_type": "code",
      "metadata": {
        "id": "Gb3_AoWhROsl"
      },
      "source": [
        " # fashion mnist\n",
        "\n",
        "# rete migliore come accuracy\n",
        "# dropout rate (0, 0.5)\n",
        "# numero di strati nascosti (1, 5)\n",
        "# numero di unità per ogni strato nascosto (10, 200)\n",
        "# relu e sigmoide\n",
        "# learning rate 10-3 e 10-2 #Adam\n",
        "\n",
        "from tensorflow.keras import Model, Sequential\n",
        "from tensorflow.keras.datasets import fashion_mnist\n",
        "from tensorflow.keras.optimizers import Adam\n",
        "from tensorflow.keras.callbacks import EarlyStopping\n",
        "from tensorflow.keras.layers import Dense, Dropout, Flatten\n",
        "\n",
        "import numpy as np\n",
        "\n",
        "import optuna"
      ],
      "execution_count": null,
      "outputs": []
    },
    {
      "cell_type": "code",
      "metadata": {
        "id": "FpRBkA1taCt-"
      },
      "source": [
        "(x_train, y_train), (x_test, y_test) = fashion_mnist.load_data()"
      ],
      "execution_count": null,
      "outputs": []
    },
    {
      "cell_type": "code",
      "metadata": {
        "id": "fCegE821aJf2"
      },
      "source": [
        "x_train = (x_train / 255).astype(np.float32)\n",
        "x_test = (x_test / 255).astype(np.float32)"
      ],
      "execution_count": null,
      "outputs": []
    },
    {
      "cell_type": "code",
      "metadata": {
        "id": "uK_zog_fSCza"
      },
      "source": [
        "def get_model(droput_rate:float, num_hidden:int, num_units:int, activation:str) -> Model:\n",
        "    ''' Restituisce un modello '''\n",
        "    model = Sequential([Flatten()])\n",
        "\n",
        "    # strati nascosti\n",
        "    for _ in range(num_hidden):\n",
        "        model.add(Dense(num_units, activation))\n",
        "\n",
        "    # ultimo strato\n",
        "    model.add(Dense(10, 'softmax'))\n",
        "\n",
        "    return model"
      ],
      "execution_count": null,
      "outputs": []
    },
    {
      "cell_type": "code",
      "metadata": {
        "id": "iy1JamESUZFD"
      },
      "source": [
        "class Objective:\n",
        "    def __init__(self, x_train, y_train):\n",
        "        self.x_train = x_train\n",
        "        self.y_train = y_train\n",
        "\n",
        "    def __call__(self, trial):\n",
        "        # scelta iperparametri\n",
        "        # trial.suggest....\n",
        "        num_hidden = trial.suggest_int('num_hidden', 1, 5)\n",
        "        num_units = trial.suggest_int('num_units', 10, 200)\n",
        "        dropout_rate = trial.suggest_uniform('dropout_rate', 0., 0.5)\n",
        "        learning_rate = trial.suggest_loguniform('learning_rate', 1e-3, 1e-2)\n",
        "        activation = trial.suggest_categorical('activation', ['relu', 'sigmoid'])\n",
        "        \n",
        "        # get_mode\n",
        "        model = get_model(dropout_rate, num_hidden, num_units, activation)\n",
        "        model.compile(optimizer=Adam(learning_rate), loss='sparse_categorical_crossentropy', metrics='accuracy')\n",
        "        \n",
        "        # addestramento # 10 epoche con early stopping su accuratezza sul validation, patience=2\n",
        "        model.fit(x=self.x_train, y=self.y_train, epochs=10, callbacks=[EarlyStopping(monitor='val_accuracy', patience=2)], validation_split=0.2)\n",
        "\n",
        "        return max(model.history.history['val_accuracy'])\n",
        "        # ritorna l'accuracy massima"
      ],
      "execution_count": null,
      "outputs": []
    },
    {
      "cell_type": "code",
      "metadata": {
        "id": "8Ur-BrOOVJ-D"
      },
      "source": [
        "study = optuna.create_study(storage='sqlite:///model_selection.db', study_name='model_selection', direction='maximize')"
      ],
      "execution_count": null,
      "outputs": []
    },
    {
      "cell_type": "code",
      "metadata": {
        "id": "sJhJToNcVJNm"
      },
      "source": [
        "study.optimize(Objective(x_train, y_train), n_trials=200)"
      ],
      "execution_count": null,
      "outputs": []
    }
  ]
}