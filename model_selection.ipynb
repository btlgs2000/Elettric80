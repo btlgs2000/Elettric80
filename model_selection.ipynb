{
  "nbformat": 4,
  "nbformat_minor": 0,
  "metadata": {
    "colab": {
      "name": "model_selection.ipynb",
      "provenance": [],
      "collapsed_sections": [],
      "authorship_tag": "ABX9TyNycr5Hovn/dqv+32U+sbl3",
      "include_colab_link": true
    },
    "kernelspec": {
      "name": "python3",
      "display_name": "Python 3"
    },
    "language_info": {
      "name": "python"
    }
  },
  "cells": [
    {
      "cell_type": "markdown",
      "metadata": {
        "id": "view-in-github",
        "colab_type": "text"
      },
      "source": [
        "<a href=\"https://colab.research.google.com/github/btlgs2000/Elettric80/blob/main/model_selection.ipynb\" target=\"_parent\"><img src=\"https://colab.research.google.com/assets/colab-badge.svg\" alt=\"Open In Colab\"/></a>"
      ]
    },
    {
      "cell_type": "code",
      "metadata": {
        "id": "Gb3_AoWhROsl"
      },
      "source": [
        " # fashion mnist\n",
        "\n",
        "# rete migliore come accuracy\n",
        "# dropout rate (0, 0.5)\n",
        "# numero di strati nascosti (1, 5)\n",
        "# numero di unità per ogni strato nascosto (10, 200)\n",
        "# relu e sigmoide\n",
        "\n",
        "from tensorflow.keras import Model"
      ],
      "execution_count": 3,
      "outputs": []
    },
    {
      "cell_type": "code",
      "metadata": {
        "id": "uK_zog_fSCza"
      },
      "source": [
        "def get_model(droput_rate:float, num_hidden:int, num_units:int, activation:str) -> Model:\n",
        "    ''' Restituisce un modello '''"
      ],
      "execution_count": 4,
      "outputs": []
    },
    {
      "cell_type": "code",
      "metadata": {
        "id": "iy1JamESUZFD"
      },
      "source": [
        "def objective(trial):\n",
        "    # scelta iperparametri\n",
        "    # trial.suggest....\n",
        "\n",
        "    # get_model\n",
        "\n",
        "    # addestramento # 10 epoche con early stopping su accuratezza sul validation, patience=2\n",
        "\n",
        "    # ritorna l'accuracy massima"
      ],
      "execution_count": null,
      "outputs": []
    },
    {
      "cell_type": "code",
      "metadata": {
        "id": "8Ur-BrOOVJ-D"
      },
      "source": [
        "study = optuna.create_study()"
      ],
      "execution_count": null,
      "outputs": []
    },
    {
      "cell_type": "code",
      "metadata": {
        "id": "sJhJToNcVJNm"
      },
      "source": [
        "study.optimize()"
      ],
      "execution_count": null,
      "outputs": []
    }
  ]
}