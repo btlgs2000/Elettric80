{
  "nbformat": 4,
  "nbformat_minor": 0,
  "metadata": {
    "colab": {
      "name": "first_convnet.ipynb",
      "provenance": [],
      "authorship_tag": "ABX9TyN+sipw5ZH+jnVNptvImOSo",
      "include_colab_link": true
    },
    "kernelspec": {
      "name": "python3",
      "display_name": "Python 3"
    },
    "language_info": {
      "name": "python"
    },
    "accelerator": "GPU"
  },
  "cells": [
    {
      "cell_type": "markdown",
      "metadata": {
        "id": "view-in-github",
        "colab_type": "text"
      },
      "source": [
        "<a href=\"https://colab.research.google.com/github/btlgs2000/Elettric80/blob/main/first_convnet.ipynb\" target=\"_parent\"><img src=\"https://colab.research.google.com/assets/colab-badge.svg\" alt=\"Open In Colab\"/></a>"
      ]
    },
    {
      "cell_type": "code",
      "metadata": {
        "id": "wrYE5M3rA58L"
      },
      "source": [
        "from tensorflow.keras.layers import Flatten, Dense, Conv2D, MaxPool2D\n",
        "from tensorflow.keras.datasets import fashion_mnist\n",
        "from tensorflow.keras import Sequential, Input\n",
        "from tensorflow.keras.optimizers import Adam\n",
        "import numpy as np"
      ],
      "execution_count": 1,
      "outputs": []
    },
    {
      "cell_type": "code",
      "metadata": {
        "colab": {
          "base_uri": "https://localhost:8080/"
        },
        "id": "-eaTLOwwVrGO",
        "outputId": "dc7bd915-5ab4-4efb-a37f-a066c0a3dac6"
      },
      "source": [
        "(x_train, y_train), (x_test, y_test) = fashion_mnist.load_data()"
      ],
      "execution_count": 2,
      "outputs": [
        {
          "output_type": "stream",
          "text": [
            "Downloading data from https://storage.googleapis.com/tensorflow/tf-keras-datasets/train-labels-idx1-ubyte.gz\n",
            "32768/29515 [=================================] - 0s 0us/step\n",
            "Downloading data from https://storage.googleapis.com/tensorflow/tf-keras-datasets/train-images-idx3-ubyte.gz\n",
            "26427392/26421880 [==============================] - 0s 0us/step\n",
            "Downloading data from https://storage.googleapis.com/tensorflow/tf-keras-datasets/t10k-labels-idx1-ubyte.gz\n",
            "8192/5148 [===============================================] - 0s 0us/step\n",
            "Downloading data from https://storage.googleapis.com/tensorflow/tf-keras-datasets/t10k-images-idx3-ubyte.gz\n",
            "4423680/4422102 [==============================] - 0s 0us/step\n"
          ],
          "name": "stdout"
        }
      ]
    },
    {
      "cell_type": "code",
      "metadata": {
        "id": "bYcYhz8oWDp8"
      },
      "source": [
        "x_train = np.expand_dims((x_train / 255).astype(np.float32), axis=-1)\n",
        "x_test = np.expand_dims((x_test / 255).astype(np.float32), axis=-1)"
      ],
      "execution_count": 3,
      "outputs": []
    },
    {
      "cell_type": "code",
      "metadata": {
        "id": "vyKVcH4eWY3Q"
      },
      "source": [
        "cnn = Sequential([\n",
        "    Input((28, 28, 1)),\n",
        "    Conv2D(filters=128/2, kernel_size=(5, 5), activation='relu'),\n",
        "    Conv2D(filters=256/2, kernel_size=(5, 5), activation='relu'),\n",
        "    MaxPool2D(),\n",
        "    Conv2D(filters=512/2, kernel_size=(5, 5), activation='relu'),\n",
        "    Conv2D(filters=1024/2, kernel_size=(5, 5), activation='relu'),\n",
        "    MaxPool2D(),\n",
        "    Flatten(),\n",
        "    Dense(200, 'relu'),\n",
        "    Dense(200, 'relu'),\n",
        "    Dense(10, 'softmax')\n",
        "])"
      ],
      "execution_count": 4,
      "outputs": []
    },
    {
      "cell_type": "code",
      "metadata": {
        "colab": {
          "base_uri": "https://localhost:8080/"
        },
        "id": "5GZWgzetXEVR",
        "outputId": "6c085f21-fe2c-4fb8-e7df-203bcaad3e53"
      },
      "source": [
        "cnn.summary()"
      ],
      "execution_count": 5,
      "outputs": [
        {
          "output_type": "stream",
          "text": [
            "Model: \"sequential\"\n",
            "_________________________________________________________________\n",
            "Layer (type)                 Output Shape              Param #   \n",
            "=================================================================\n",
            "conv2d (Conv2D)              (None, 24, 24, 64)        1664      \n",
            "_________________________________________________________________\n",
            "conv2d_1 (Conv2D)            (None, 20, 20, 128)       204928    \n",
            "_________________________________________________________________\n",
            "max_pooling2d (MaxPooling2D) (None, 10, 10, 128)       0         \n",
            "_________________________________________________________________\n",
            "conv2d_2 (Conv2D)            (None, 6, 6, 256)         819456    \n",
            "_________________________________________________________________\n",
            "conv2d_3 (Conv2D)            (None, 2, 2, 512)         3277312   \n",
            "_________________________________________________________________\n",
            "max_pooling2d_1 (MaxPooling2 (None, 1, 1, 512)         0         \n",
            "_________________________________________________________________\n",
            "flatten (Flatten)            (None, 512)               0         \n",
            "_________________________________________________________________\n",
            "dense (Dense)                (None, 200)               102600    \n",
            "_________________________________________________________________\n",
            "dense_1 (Dense)              (None, 200)               40200     \n",
            "_________________________________________________________________\n",
            "dense_2 (Dense)              (None, 10)                2010      \n",
            "=================================================================\n",
            "Total params: 4,448,170\n",
            "Trainable params: 4,448,170\n",
            "Non-trainable params: 0\n",
            "_________________________________________________________________\n"
          ],
          "name": "stdout"
        }
      ]
    },
    {
      "cell_type": "code",
      "metadata": {
        "id": "3MFEPBrAX3PX"
      },
      "source": [
        "cnn.compile(optimizer=Adam(1e-3), \n",
        "            loss='sparse_categorical_crossentropy', metrics='accuracy')"
      ],
      "execution_count": 6,
      "outputs": []
    },
    {
      "cell_type": "code",
      "metadata": {
        "colab": {
          "base_uri": "https://localhost:8080/"
        },
        "id": "67OdfGvLZM_m",
        "outputId": "328d5ee9-2cfb-4a79-b106-012505ae401e"
      },
      "source": [
        "cnn.fit(x=x_train, y=y_train, epochs=10, validation_split=0.2)"
      ],
      "execution_count": 7,
      "outputs": [
        {
          "output_type": "stream",
          "text": [
            "Epoch 1/10\n",
            "1500/1500 [==============================] - 77s 31ms/step - loss: 0.7144 - accuracy: 0.7270 - val_loss: 0.3467 - val_accuracy: 0.8708\n",
            "Epoch 2/10\n",
            "1500/1500 [==============================] - 47s 31ms/step - loss: 0.3277 - accuracy: 0.8794 - val_loss: 0.3143 - val_accuracy: 0.8814\n",
            "Epoch 3/10\n",
            "1500/1500 [==============================] - 47s 31ms/step - loss: 0.2692 - accuracy: 0.9006 - val_loss: 0.3301 - val_accuracy: 0.8798\n",
            "Epoch 4/10\n",
            "1500/1500 [==============================] - 47s 31ms/step - loss: 0.2208 - accuracy: 0.9192 - val_loss: 0.2577 - val_accuracy: 0.9047\n",
            "Epoch 5/10\n",
            "1500/1500 [==============================] - 47s 31ms/step - loss: 0.1876 - accuracy: 0.9306 - val_loss: 0.2625 - val_accuracy: 0.9067\n",
            "Epoch 6/10\n",
            "1500/1500 [==============================] - 47s 31ms/step - loss: 0.1638 - accuracy: 0.9390 - val_loss: 0.2480 - val_accuracy: 0.9087\n",
            "Epoch 7/10\n",
            "1500/1500 [==============================] - 47s 31ms/step - loss: 0.1408 - accuracy: 0.9475 - val_loss: 0.2879 - val_accuracy: 0.9016\n",
            "Epoch 8/10\n",
            "1500/1500 [==============================] - 47s 31ms/step - loss: 0.1236 - accuracy: 0.9538 - val_loss: 0.2942 - val_accuracy: 0.9141\n",
            "Epoch 9/10\n",
            "1500/1500 [==============================] - 47s 31ms/step - loss: 0.1071 - accuracy: 0.9618 - val_loss: 0.3004 - val_accuracy: 0.9160\n",
            "Epoch 10/10\n",
            "1500/1500 [==============================] - 47s 31ms/step - loss: 0.0904 - accuracy: 0.9674 - val_loss: 0.3211 - val_accuracy: 0.9121\n"
          ],
          "name": "stdout"
        },
        {
          "output_type": "execute_result",
          "data": {
            "text/plain": [
              "<tensorflow.python.keras.callbacks.History at 0x7fd0e0199650>"
            ]
          },
          "metadata": {
            "tags": []
          },
          "execution_count": 7
        }
      ]
    },
    {
      "cell_type": "code",
      "metadata": {
        "id": "dprpDAyaZvj_"
      },
      "source": [
        ""
      ],
      "execution_count": null,
      "outputs": []
    }
  ]
}