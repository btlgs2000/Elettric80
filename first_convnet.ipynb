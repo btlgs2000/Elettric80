{
  "nbformat": 4,
  "nbformat_minor": 0,
  "metadata": {
    "colab": {
      "name": "first_convnet.ipynb",
      "provenance": [],
      "authorship_tag": "ABX9TyPir1KBowzni1tKnKHdI5fD",
      "include_colab_link": true
    },
    "kernelspec": {
      "name": "python3",
      "display_name": "Python 3"
    },
    "language_info": {
      "name": "python"
    },
    "accelerator": "GPU"
  },
  "cells": [
    {
      "cell_type": "markdown",
      "metadata": {
        "id": "view-in-github",
        "colab_type": "text"
      },
      "source": [
        "<a href=\"https://colab.research.google.com/github/btlgs2000/Elettric80/blob/main/first_convnet.ipynb\" target=\"_parent\"><img src=\"https://colab.research.google.com/assets/colab-badge.svg\" alt=\"Open In Colab\"/></a>"
      ]
    },
    {
      "cell_type": "code",
      "metadata": {
        "id": "wrYE5M3rA58L"
      },
      "source": [
        "from tensorflow.keras.layers import Flatten, Dense, Conv2D, MaxPool2D\n",
        "from tensorflow.keras.datasets import fashion_mnist\n",
        "from tensorflow.keras import Sequential, Input\n",
        "from tensorflow.keras.optimizers import Adam\n",
        "import numpy as np"
      ],
      "execution_count": null,
      "outputs": []
    },
    {
      "cell_type": "code",
      "metadata": {
        "id": "-eaTLOwwVrGO"
      },
      "source": [
        "(x_train, y_train), (x_test, y_test) = fashion_mnist.load_data()"
      ],
      "execution_count": null,
      "outputs": []
    },
    {
      "cell_type": "code",
      "metadata": {
        "id": "bYcYhz8oWDp8"
      },
      "source": [
        "x_train = np.expand_dims((x_train / 255).astype(np.float32), axis=-1)\n",
        "x_test = np.expand_dims((x_test / 255).astype(np.float32), axis=-1)"
      ],
      "execution_count": null,
      "outputs": []
    },
    {
      "cell_type": "code",
      "metadata": {
        "id": "vyKVcH4eWY3Q"
      },
      "source": [
        "cnn = Sequential([\n",
        "    Input((28, 28, 1)),\n",
        "    Conv2D(filters=64, kernel_size=(5, 5), activation='relu'),\n",
        "    Conv2D(filters=128, kernel_size=(5, 5), activation='relu'),\n",
        "    MaxPool2D(),\n",
        "    Conv2D(filters=256, kernel_size=(5, 5), activation='relu'),\n",
        "    Conv2D(filters=512, kernel_size=(5, 5), activation='relu'),\n",
        "    MaxPool2D(),\n",
        "    Flatten(),\n",
        "    Dense(200, 'relu'),\n",
        "    Dense(200, 'relu'),\n",
        "    Dense(10, 'softmax')\n",
        "])"
      ],
      "execution_count": null,
      "outputs": []
    },
    {
      "cell_type": "code",
      "metadata": {
        "id": "5GZWgzetXEVR"
      },
      "source": [
        "cnn.summary()"
      ],
      "execution_count": null,
      "outputs": []
    },
    {
      "cell_type": "code",
      "metadata": {
        "id": "3MFEPBrAX3PX"
      },
      "source": [
        "cnn.compile(optimizer=Adam(1e-3), \n",
        "            loss='sparse_categorical_crossentropy', metrics='accuracy')"
      ],
      "execution_count": null,
      "outputs": []
    },
    {
      "cell_type": "code",
      "metadata": {
        "id": "67OdfGvLZM_m"
      },
      "source": [
        "cnn.fit(x=x_train, y=y_train, epochs=10, validation_split=0.2)"
      ],
      "execution_count": null,
      "outputs": []
    }
  ]
}